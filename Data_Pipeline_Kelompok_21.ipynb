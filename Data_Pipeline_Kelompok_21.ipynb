{
  "nbformat": 4,
  "nbformat_minor": 0,
  "metadata": {
    "colab": {
      "name": "Data Pipeline_Kelompok 21.ipynb",
      "provenance": [],
      "collapsed_sections": [],
      "include_colab_link": true
    },
    "kernelspec": {
      "display_name": "Python 3",
      "name": "python3"
    },
    "language_info": {
      "name": "python"
    }
  },
  "cells": [
    {
      "cell_type": "markdown",
      "metadata": {
        "id": "view-in-github",
        "colab_type": "text"
      },
      "source": [
        "<a href=\"https://colab.research.google.com/github/renomrcll/data-pipeline-practice/blob/main/Data_Pipeline_Kelompok_21.ipynb\" target=\"_parent\"><img src=\"https://colab.research.google.com/assets/colab-badge.svg\" alt=\"Open In Colab\"/></a>"
      ]
    },
    {
      "cell_type": "markdown",
      "metadata": {
        "id": "EdG15gUhlCpO"
      },
      "source": [
        "#**DATA PIPELINE USING ETL**"
      ]
    },
    {
      "cell_type": "markdown",
      "metadata": {
        "id": "t8ebWwaQZ67-"
      },
      "source": [
        "\n",
        "\n",
        "*   Reno Marcello Mohammad - 19/439821/TK/48551\n",
        "*   Fauzan Abdillah - 19/444049/TK/49245 \n",
        "*   Kisbayu Kresna Aji - 19/444056/TK/49252\n",
        "*   Harits Rizkal Aliamdy - 19/439814/TK/48544\n",
        "\n"
      ]
    },
    {
      "cell_type": "markdown",
      "metadata": {
        "id": "olDpRVmCcL9l"
      },
      "source": [
        "Dataset pertama yang kami gunakan merupakan dataset berisi informasi film dari situs Netflix yaitu netflix_df, dan untuk dataset yang kedua kami mengambil data dari API IMDB yaitu Top 250 Movies dan Top 250 TV Series yang digabungkan kedalam satu dataframe yaitu imdb_df. Dengan kedua dataset tersebut kami akan mencari hubungan antara kedua dataset tersebut."
      ]
    },
    {
      "cell_type": "markdown",
      "metadata": {
        "id": "eNeFrn5Ib9yI"
      },
      "source": [
        "Pada pemrosesan data ini kami menggunakan pandas sebagai pengolahan dataframenya"
      ]
    },
    {
      "cell_type": "markdown",
      "metadata": {
        "id": "ok7lVFn91LN9"
      },
      "source": [
        "**IMPORT DRIVE & LIBRARY**"
      ]
    },
    {
      "cell_type": "markdown",
      "metadata": {
        "id": "OiJ3xzbL0HRO"
      },
      "source": [
        "Mengimport library serta drive untuk mengambil dataset dari drive"
      ]
    },
    {
      "cell_type": "code",
      "metadata": {
        "colab": {
          "base_uri": "https://localhost:8080/"
        },
        "id": "BvTfwyF9Zz9N",
        "outputId": "dbbf18b2-2c2a-4b82-b68b-0bf161495892"
      },
      "source": [
        "import pandas as pd\n",
        "import os\n",
        "import requests\n",
        "import seaborn as sns\n",
        "import matplotlib.pyplot as plt\n",
        "from google.colab import drive,files\n",
        "sns.set_theme(style=\"whitegrid\")\n",
        "drive.mount(\"/content/drive/\")\n"
      ],
      "execution_count": null,
      "outputs": [
        {
          "output_type": "stream",
          "name": "stdout",
          "text": [
            "Drive already mounted at /content/drive/; to attempt to forcibly remount, call drive.mount(\"/content/drive/\", force_remount=True).\n"
          ]
        }
      ]
    },
    {
      "cell_type": "markdown",
      "metadata": {
        "id": "h7UCDGX-bZz3"
      },
      "source": [
        "Fungsi untuk mengambil data film dari API"
      ]
    },
    {
      "cell_type": "code",
      "metadata": {
        "id": "0Jli_8aro6AV"
      },
      "source": [
        "def get_movies(url):\n",
        "  response = requests.get(url)\n",
        "  body = response.json()['items']\n",
        "  return body"
      ],
      "execution_count": null,
      "outputs": []
    },
    {
      "cell_type": "code",
      "metadata": {
        "id": "913kjckPporo"
      },
      "source": [
        "imdb_data = []\n",
        "imdb_data += get_movies(\"https://imdb-api.com/en/API/Top250TVs/k_1t88ytnw\")\n",
        "imdb_data += get_movies(\"https://imdb-api.com/en/API/Top250Movies/k_1t88ytnw\")"
      ],
      "execution_count": null,
      "outputs": []
    },
    {
      "cell_type": "markdown",
      "metadata": {
        "id": "tD7vQQefdK_N"
      },
      "source": [
        "Membuat dataframe dari dataset IMDB "
      ]
    },
    {
      "cell_type": "code",
      "metadata": {
        "colab": {
          "base_uri": "https://localhost:8080/",
          "height": 206
        },
        "id": "WGOLx5wC4EBz",
        "outputId": "5b1eef37-b4bc-4108-86fc-8b436eae17cd"
      },
      "source": [
        "imdb_df = pd.DataFrame(imdb_data)\n",
        "imdb_df.head()"
      ],
      "execution_count": null,
      "outputs": [
        {
          "output_type": "execute_result",
          "data": {
            "text/html": [
              "<div>\n",
              "<style scoped>\n",
              "    .dataframe tbody tr th:only-of-type {\n",
              "        vertical-align: middle;\n",
              "    }\n",
              "\n",
              "    .dataframe tbody tr th {\n",
              "        vertical-align: top;\n",
              "    }\n",
              "\n",
              "    .dataframe thead th {\n",
              "        text-align: right;\n",
              "    }\n",
              "</style>\n",
              "<table border=\"1\" class=\"dataframe\">\n",
              "  <thead>\n",
              "    <tr style=\"text-align: right;\">\n",
              "      <th></th>\n",
              "      <th>id</th>\n",
              "      <th>rank</th>\n",
              "      <th>title</th>\n",
              "      <th>fullTitle</th>\n",
              "      <th>year</th>\n",
              "      <th>image</th>\n",
              "      <th>crew</th>\n",
              "      <th>imDbRating</th>\n",
              "      <th>imDbRatingCount</th>\n",
              "    </tr>\n",
              "  </thead>\n",
              "  <tbody>\n",
              "    <tr>\n",
              "      <th>0</th>\n",
              "      <td>tt5491994</td>\n",
              "      <td>1</td>\n",
              "      <td>Planet Earth II</td>\n",
              "      <td>Planet Earth II (2016)</td>\n",
              "      <td>2016</td>\n",
              "      <td>https://m.media-amazon.com/images/M/MV5BZWYxOD...</td>\n",
              "      <td>David Attenborough, Elizabeth White</td>\n",
              "      <td>9.5</td>\n",
              "      <td>106505</td>\n",
              "    </tr>\n",
              "    <tr>\n",
              "      <th>1</th>\n",
              "      <td>tt0795176</td>\n",
              "      <td>2</td>\n",
              "      <td>Planet Earth</td>\n",
              "      <td>Planet Earth (2006)</td>\n",
              "      <td>2006</td>\n",
              "      <td>https://m.media-amazon.com/images/M/MV5BNmZlYz...</td>\n",
              "      <td>David Attenborough, Sigourney Weaver</td>\n",
              "      <td>9.4</td>\n",
              "      <td>175205</td>\n",
              "    </tr>\n",
              "    <tr>\n",
              "      <th>2</th>\n",
              "      <td>tt0903747</td>\n",
              "      <td>3</td>\n",
              "      <td>Breaking Bad</td>\n",
              "      <td>Breaking Bad (2008)</td>\n",
              "      <td>2008</td>\n",
              "      <td>https://m.media-amazon.com/images/M/MV5BMjhiMz...</td>\n",
              "      <td>Bryan Cranston, Aaron Paul</td>\n",
              "      <td>9.4</td>\n",
              "      <td>1613122</td>\n",
              "    </tr>\n",
              "    <tr>\n",
              "      <th>3</th>\n",
              "      <td>tt0185906</td>\n",
              "      <td>4</td>\n",
              "      <td>Band of Brothers</td>\n",
              "      <td>Band of Brothers (2001)</td>\n",
              "      <td>2001</td>\n",
              "      <td>https://m.media-amazon.com/images/M/MV5BMTI3OD...</td>\n",
              "      <td>Scott Grimes, Damian Lewis</td>\n",
              "      <td>9.4</td>\n",
              "      <td>405616</td>\n",
              "    </tr>\n",
              "    <tr>\n",
              "      <th>4</th>\n",
              "      <td>tt7366338</td>\n",
              "      <td>5</td>\n",
              "      <td>Chernobyl</td>\n",
              "      <td>Chernobyl (2019)</td>\n",
              "      <td>2019</td>\n",
              "      <td>https://m.media-amazon.com/images/M/MV5BZGQ2Ym...</td>\n",
              "      <td>Jessie Buckley, Jared Harris</td>\n",
              "      <td>9.3</td>\n",
              "      <td>628890</td>\n",
              "    </tr>\n",
              "  </tbody>\n",
              "</table>\n",
              "</div>"
            ],
            "text/plain": [
              "          id rank  ... imDbRating imDbRatingCount\n",
              "0  tt5491994    1  ...        9.5          106505\n",
              "1  tt0795176    2  ...        9.4          175205\n",
              "2  tt0903747    3  ...        9.4         1613122\n",
              "3  tt0185906    4  ...        9.4          405616\n",
              "4  tt7366338    5  ...        9.3          628890\n",
              "\n",
              "[5 rows x 9 columns]"
            ]
          },
          "metadata": {},
          "execution_count": 99
        }
      ]
    },
    {
      "cell_type": "markdown",
      "metadata": {
        "id": "i0C5uxhBdPEJ"
      },
      "source": [
        "Karena tulisan pada kolom dataset tersebut mengandung uppercase, maka akan disetarakan dengan .lower() terlebih dahulu"
      ]
    },
    {
      "cell_type": "code",
      "metadata": {
        "id": "Z_CcUbBf6qrg"
      },
      "source": [
        "imdb_df.columns = imdb_df.columns.str.lower()"
      ],
      "execution_count": null,
      "outputs": []
    },
    {
      "cell_type": "markdown",
      "metadata": {
        "id": "hF463UGhdZpK"
      },
      "source": [
        "Lalu kami melakukan drop terhadap kolom yang tidak digunakan pada pengolahan data disini"
      ]
    },
    {
      "cell_type": "code",
      "metadata": {
        "colab": {
          "base_uri": "https://localhost:8080/",
          "height": 206
        },
        "id": "v2roY0zz6JAI",
        "outputId": "30a78401-3e52-4479-ef28-a1acdc1b4149"
      },
      "source": [
        "unnecessary_columns = ['fulltitle', 'rank', 'id', 'image', 'imdbratingcount']\n",
        "imdb_df.drop(unnecessary_columns, axis='columns', inplace=True)\n",
        "imdb_df = imdb_df.reset_index(drop=True)\n",
        "imdb_df.head()"
      ],
      "execution_count": null,
      "outputs": [
        {
          "output_type": "execute_result",
          "data": {
            "text/html": [
              "<div>\n",
              "<style scoped>\n",
              "    .dataframe tbody tr th:only-of-type {\n",
              "        vertical-align: middle;\n",
              "    }\n",
              "\n",
              "    .dataframe tbody tr th {\n",
              "        vertical-align: top;\n",
              "    }\n",
              "\n",
              "    .dataframe thead th {\n",
              "        text-align: right;\n",
              "    }\n",
              "</style>\n",
              "<table border=\"1\" class=\"dataframe\">\n",
              "  <thead>\n",
              "    <tr style=\"text-align: right;\">\n",
              "      <th></th>\n",
              "      <th>title</th>\n",
              "      <th>year</th>\n",
              "      <th>crew</th>\n",
              "      <th>imdbrating</th>\n",
              "    </tr>\n",
              "  </thead>\n",
              "  <tbody>\n",
              "    <tr>\n",
              "      <th>0</th>\n",
              "      <td>Planet Earth II</td>\n",
              "      <td>2016</td>\n",
              "      <td>David Attenborough, Elizabeth White</td>\n",
              "      <td>9.5</td>\n",
              "    </tr>\n",
              "    <tr>\n",
              "      <th>1</th>\n",
              "      <td>Planet Earth</td>\n",
              "      <td>2006</td>\n",
              "      <td>David Attenborough, Sigourney Weaver</td>\n",
              "      <td>9.4</td>\n",
              "    </tr>\n",
              "    <tr>\n",
              "      <th>2</th>\n",
              "      <td>Breaking Bad</td>\n",
              "      <td>2008</td>\n",
              "      <td>Bryan Cranston, Aaron Paul</td>\n",
              "      <td>9.4</td>\n",
              "    </tr>\n",
              "    <tr>\n",
              "      <th>3</th>\n",
              "      <td>Band of Brothers</td>\n",
              "      <td>2001</td>\n",
              "      <td>Scott Grimes, Damian Lewis</td>\n",
              "      <td>9.4</td>\n",
              "    </tr>\n",
              "    <tr>\n",
              "      <th>4</th>\n",
              "      <td>Chernobyl</td>\n",
              "      <td>2019</td>\n",
              "      <td>Jessie Buckley, Jared Harris</td>\n",
              "      <td>9.3</td>\n",
              "    </tr>\n",
              "  </tbody>\n",
              "</table>\n",
              "</div>"
            ],
            "text/plain": [
              "              title  year                                  crew imdbrating\n",
              "0   Planet Earth II  2016   David Attenborough, Elizabeth White        9.5\n",
              "1      Planet Earth  2006  David Attenborough, Sigourney Weaver        9.4\n",
              "2      Breaking Bad  2008            Bryan Cranston, Aaron Paul        9.4\n",
              "3  Band of Brothers  2001            Scott Grimes, Damian Lewis        9.4\n",
              "4         Chernobyl  2019          Jessie Buckley, Jared Harris        9.3"
            ]
          },
          "metadata": {},
          "execution_count": 101
        }
      ]
    },
    {
      "cell_type": "code",
      "metadata": {
        "colab": {
          "base_uri": "https://localhost:8080/"
        },
        "id": "T9bK07wLKQ0s",
        "outputId": "e5daa5a1-bd88-4410-df79-62904dd245d7"
      },
      "source": [
        "imdb_df.shape"
      ],
      "execution_count": null,
      "outputs": [
        {
          "output_type": "execute_result",
          "data": {
            "text/plain": [
              "(500, 4)"
            ]
          },
          "metadata": {},
          "execution_count": 102
        }
      ]
    },
    {
      "cell_type": "markdown",
      "metadata": {
        "id": "Twh0lvJ6eD_J"
      },
      "source": [
        "Terdapat 500 baris dan 4 kolom pada dataframe imdb_df"
      ]
    },
    {
      "cell_type": "markdown",
      "metadata": {
        "id": "b5QqQSmx5UFn"
      },
      "source": [
        "\n",
        "**DATASET NETFLIX**"
      ]
    },
    {
      "cell_type": "code",
      "metadata": {
        "colab": {
          "base_uri": "https://localhost:8080/",
          "height": 293
        },
        "id": "m8oSnWN_4Q8T",
        "outputId": "e4451906-7936-4a75-abeb-b4093d2f4f7b"
      },
      "source": [
        "netflix_df = pd.read_csv(\"/content/drive/Shareddrives/RekDat/netflix_titles.csv\")\n",
        "netflix_df.head()"
      ],
      "execution_count": null,
      "outputs": [
        {
          "output_type": "execute_result",
          "data": {
            "text/html": [
              "<div>\n",
              "<style scoped>\n",
              "    .dataframe tbody tr th:only-of-type {\n",
              "        vertical-align: middle;\n",
              "    }\n",
              "\n",
              "    .dataframe tbody tr th {\n",
              "        vertical-align: top;\n",
              "    }\n",
              "\n",
              "    .dataframe thead th {\n",
              "        text-align: right;\n",
              "    }\n",
              "</style>\n",
              "<table border=\"1\" class=\"dataframe\">\n",
              "  <thead>\n",
              "    <tr style=\"text-align: right;\">\n",
              "      <th></th>\n",
              "      <th>show_id</th>\n",
              "      <th>type</th>\n",
              "      <th>title</th>\n",
              "      <th>director</th>\n",
              "      <th>cast</th>\n",
              "      <th>country</th>\n",
              "      <th>date_added</th>\n",
              "      <th>release_year</th>\n",
              "      <th>rating</th>\n",
              "      <th>duration</th>\n",
              "      <th>listed_in</th>\n",
              "      <th>description</th>\n",
              "    </tr>\n",
              "  </thead>\n",
              "  <tbody>\n",
              "    <tr>\n",
              "      <th>0</th>\n",
              "      <td>s1</td>\n",
              "      <td>Movie</td>\n",
              "      <td>Dick Johnson Is Dead</td>\n",
              "      <td>Kirsten Johnson</td>\n",
              "      <td>NaN</td>\n",
              "      <td>United States</td>\n",
              "      <td>September 25, 2021</td>\n",
              "      <td>2020</td>\n",
              "      <td>PG-13</td>\n",
              "      <td>90 min</td>\n",
              "      <td>Documentaries</td>\n",
              "      <td>As her father nears the end of his life, filmm...</td>\n",
              "    </tr>\n",
              "    <tr>\n",
              "      <th>1</th>\n",
              "      <td>s2</td>\n",
              "      <td>TV Show</td>\n",
              "      <td>Blood &amp; Water</td>\n",
              "      <td>NaN</td>\n",
              "      <td>Ama Qamata, Khosi Ngema, Gail Mabalane, Thaban...</td>\n",
              "      <td>South Africa</td>\n",
              "      <td>September 24, 2021</td>\n",
              "      <td>2021</td>\n",
              "      <td>TV-MA</td>\n",
              "      <td>2 Seasons</td>\n",
              "      <td>International TV Shows, TV Dramas, TV Mysteries</td>\n",
              "      <td>After crossing paths at a party, a Cape Town t...</td>\n",
              "    </tr>\n",
              "    <tr>\n",
              "      <th>2</th>\n",
              "      <td>s3</td>\n",
              "      <td>TV Show</td>\n",
              "      <td>Ganglands</td>\n",
              "      <td>Julien Leclercq</td>\n",
              "      <td>Sami Bouajila, Tracy Gotoas, Samuel Jouy, Nabi...</td>\n",
              "      <td>NaN</td>\n",
              "      <td>September 24, 2021</td>\n",
              "      <td>2021</td>\n",
              "      <td>TV-MA</td>\n",
              "      <td>1 Season</td>\n",
              "      <td>Crime TV Shows, International TV Shows, TV Act...</td>\n",
              "      <td>To protect his family from a powerful drug lor...</td>\n",
              "    </tr>\n",
              "    <tr>\n",
              "      <th>3</th>\n",
              "      <td>s4</td>\n",
              "      <td>TV Show</td>\n",
              "      <td>Jailbirds New Orleans</td>\n",
              "      <td>NaN</td>\n",
              "      <td>NaN</td>\n",
              "      <td>NaN</td>\n",
              "      <td>September 24, 2021</td>\n",
              "      <td>2021</td>\n",
              "      <td>TV-MA</td>\n",
              "      <td>1 Season</td>\n",
              "      <td>Docuseries, Reality TV</td>\n",
              "      <td>Feuds, flirtations and toilet talk go down amo...</td>\n",
              "    </tr>\n",
              "    <tr>\n",
              "      <th>4</th>\n",
              "      <td>s5</td>\n",
              "      <td>TV Show</td>\n",
              "      <td>Kota Factory</td>\n",
              "      <td>NaN</td>\n",
              "      <td>Mayur More, Jitendra Kumar, Ranjan Raj, Alam K...</td>\n",
              "      <td>India</td>\n",
              "      <td>September 24, 2021</td>\n",
              "      <td>2021</td>\n",
              "      <td>TV-MA</td>\n",
              "      <td>2 Seasons</td>\n",
              "      <td>International TV Shows, Romantic TV Shows, TV ...</td>\n",
              "      <td>In a city of coaching centers known to train I...</td>\n",
              "    </tr>\n",
              "  </tbody>\n",
              "</table>\n",
              "</div>"
            ],
            "text/plain": [
              "  show_id  ...                                        description\n",
              "0      s1  ...  As her father nears the end of his life, filmm...\n",
              "1      s2  ...  After crossing paths at a party, a Cape Town t...\n",
              "2      s3  ...  To protect his family from a powerful drug lor...\n",
              "3      s4  ...  Feuds, flirtations and toilet talk go down amo...\n",
              "4      s5  ...  In a city of coaching centers known to train I...\n",
              "\n",
              "[5 rows x 12 columns]"
            ]
          },
          "metadata": {},
          "execution_count": 103
        }
      ]
    },
    {
      "cell_type": "code",
      "metadata": {
        "colab": {
          "base_uri": "https://localhost:8080/"
        },
        "id": "6naAVeqzc8zN",
        "outputId": "16ce46f9-8cf2-4867-93f2-ab8ae2e46782"
      },
      "source": [
        "netflix_df.isnull().sum()"
      ],
      "execution_count": null,
      "outputs": [
        {
          "output_type": "execute_result",
          "data": {
            "text/plain": [
              "show_id            0\n",
              "type               0\n",
              "title              0\n",
              "director        2634\n",
              "cast             825\n",
              "country          831\n",
              "date_added        10\n",
              "release_year       0\n",
              "rating             4\n",
              "duration           3\n",
              "listed_in          0\n",
              "description        0\n",
              "dtype: int64"
            ]
          },
          "metadata": {},
          "execution_count": 104
        }
      ]
    },
    {
      "cell_type": "markdown",
      "metadata": {
        "id": "zCuZU1J3eh_B"
      },
      "source": [
        "Karena masih banyak data yang mengandung null atau NaN, maka dilakukan **Data Cleaning** terlebih dahulu"
      ]
    },
    {
      "cell_type": "markdown",
      "metadata": {
        "id": "T1Q-4fHBdb6q"
      },
      "source": [
        "Lalu kita isi kolom yang kosong dengan \"... Unknown\", dan mengubah listed_in menjadi genre agar lebih familiar"
      ]
    },
    {
      "cell_type": "code",
      "metadata": {
        "colab": {
          "base_uri": "https://localhost:8080/",
          "height": 293
        },
        "id": "Wg2mYjS6dbPQ",
        "outputId": "5611212f-6661-4750-f6c6-d9f88ee1130b"
      },
      "source": [
        "netflix_df['director'] = netflix_df['director'].fillna('Director_Unknown')\n",
        "netflix_df['country'] = netflix_df['country'].fillna('Country_Unknown')\n",
        "netflix_df['cast'] = netflix_df['cast'].fillna('Cast_Unknown')\n",
        "netflix_df['duration'] = netflix_df['duration'].fillna('Runtime_Unknown')\n",
        "netflix_df=netflix_df.rename(columns={'listed_in': 'genre'})\n",
        "netflix_df.head()"
      ],
      "execution_count": null,
      "outputs": [
        {
          "output_type": "execute_result",
          "data": {
            "text/html": [
              "<div>\n",
              "<style scoped>\n",
              "    .dataframe tbody tr th:only-of-type {\n",
              "        vertical-align: middle;\n",
              "    }\n",
              "\n",
              "    .dataframe tbody tr th {\n",
              "        vertical-align: top;\n",
              "    }\n",
              "\n",
              "    .dataframe thead th {\n",
              "        text-align: right;\n",
              "    }\n",
              "</style>\n",
              "<table border=\"1\" class=\"dataframe\">\n",
              "  <thead>\n",
              "    <tr style=\"text-align: right;\">\n",
              "      <th></th>\n",
              "      <th>show_id</th>\n",
              "      <th>type</th>\n",
              "      <th>title</th>\n",
              "      <th>director</th>\n",
              "      <th>cast</th>\n",
              "      <th>country</th>\n",
              "      <th>date_added</th>\n",
              "      <th>release_year</th>\n",
              "      <th>rating</th>\n",
              "      <th>duration</th>\n",
              "      <th>genre</th>\n",
              "      <th>description</th>\n",
              "    </tr>\n",
              "  </thead>\n",
              "  <tbody>\n",
              "    <tr>\n",
              "      <th>0</th>\n",
              "      <td>s1</td>\n",
              "      <td>Movie</td>\n",
              "      <td>Dick Johnson Is Dead</td>\n",
              "      <td>Kirsten Johnson</td>\n",
              "      <td>Cast_Unknown</td>\n",
              "      <td>United States</td>\n",
              "      <td>September 25, 2021</td>\n",
              "      <td>2020</td>\n",
              "      <td>PG-13</td>\n",
              "      <td>90 min</td>\n",
              "      <td>Documentaries</td>\n",
              "      <td>As her father nears the end of his life, filmm...</td>\n",
              "    </tr>\n",
              "    <tr>\n",
              "      <th>1</th>\n",
              "      <td>s2</td>\n",
              "      <td>TV Show</td>\n",
              "      <td>Blood &amp; Water</td>\n",
              "      <td>Director_Unknown</td>\n",
              "      <td>Ama Qamata, Khosi Ngema, Gail Mabalane, Thaban...</td>\n",
              "      <td>South Africa</td>\n",
              "      <td>September 24, 2021</td>\n",
              "      <td>2021</td>\n",
              "      <td>TV-MA</td>\n",
              "      <td>2 Seasons</td>\n",
              "      <td>International TV Shows, TV Dramas, TV Mysteries</td>\n",
              "      <td>After crossing paths at a party, a Cape Town t...</td>\n",
              "    </tr>\n",
              "    <tr>\n",
              "      <th>2</th>\n",
              "      <td>s3</td>\n",
              "      <td>TV Show</td>\n",
              "      <td>Ganglands</td>\n",
              "      <td>Julien Leclercq</td>\n",
              "      <td>Sami Bouajila, Tracy Gotoas, Samuel Jouy, Nabi...</td>\n",
              "      <td>Country_Unknown</td>\n",
              "      <td>September 24, 2021</td>\n",
              "      <td>2021</td>\n",
              "      <td>TV-MA</td>\n",
              "      <td>1 Season</td>\n",
              "      <td>Crime TV Shows, International TV Shows, TV Act...</td>\n",
              "      <td>To protect his family from a powerful drug lor...</td>\n",
              "    </tr>\n",
              "    <tr>\n",
              "      <th>3</th>\n",
              "      <td>s4</td>\n",
              "      <td>TV Show</td>\n",
              "      <td>Jailbirds New Orleans</td>\n",
              "      <td>Director_Unknown</td>\n",
              "      <td>Cast_Unknown</td>\n",
              "      <td>Country_Unknown</td>\n",
              "      <td>September 24, 2021</td>\n",
              "      <td>2021</td>\n",
              "      <td>TV-MA</td>\n",
              "      <td>1 Season</td>\n",
              "      <td>Docuseries, Reality TV</td>\n",
              "      <td>Feuds, flirtations and toilet talk go down amo...</td>\n",
              "    </tr>\n",
              "    <tr>\n",
              "      <th>4</th>\n",
              "      <td>s5</td>\n",
              "      <td>TV Show</td>\n",
              "      <td>Kota Factory</td>\n",
              "      <td>Director_Unknown</td>\n",
              "      <td>Mayur More, Jitendra Kumar, Ranjan Raj, Alam K...</td>\n",
              "      <td>India</td>\n",
              "      <td>September 24, 2021</td>\n",
              "      <td>2021</td>\n",
              "      <td>TV-MA</td>\n",
              "      <td>2 Seasons</td>\n",
              "      <td>International TV Shows, Romantic TV Shows, TV ...</td>\n",
              "      <td>In a city of coaching centers known to train I...</td>\n",
              "    </tr>\n",
              "  </tbody>\n",
              "</table>\n",
              "</div>"
            ],
            "text/plain": [
              "  show_id  ...                                        description\n",
              "0      s1  ...  As her father nears the end of his life, filmm...\n",
              "1      s2  ...  After crossing paths at a party, a Cape Town t...\n",
              "2      s3  ...  To protect his family from a powerful drug lor...\n",
              "3      s4  ...  Feuds, flirtations and toilet talk go down amo...\n",
              "4      s5  ...  In a city of coaching centers known to train I...\n",
              "\n",
              "[5 rows x 12 columns]"
            ]
          },
          "metadata": {},
          "execution_count": 105
        }
      ]
    },
    {
      "cell_type": "markdown",
      "metadata": {
        "id": "POxRGbaUerEI"
      },
      "source": [
        "Melakukan drop pada kolom yang tidak dibutuhkan"
      ]
    },
    {
      "cell_type": "code",
      "metadata": {
        "colab": {
          "base_uri": "https://localhost:8080/"
        },
        "id": "z4Mf9_uzdp_R",
        "outputId": "d46ba82f-0a99-4ca6-8b9d-663a32a3a6eb"
      },
      "source": [
        "netflix_df.drop(['date_added','show_id'], axis='columns', inplace=True)\n",
        "netflix_df.shape"
      ],
      "execution_count": null,
      "outputs": [
        {
          "output_type": "execute_result",
          "data": {
            "text/plain": [
              "(8807, 10)"
            ]
          },
          "metadata": {},
          "execution_count": 106
        }
      ]
    },
    {
      "cell_type": "markdown",
      "metadata": {
        "id": "GBw14I3TgTF3"
      },
      "source": [
        "**NETFLIX IN IMDB**"
      ]
    },
    {
      "cell_type": "markdown",
      "metadata": {
        "id": "sFtr2ub9fp0N"
      },
      "source": [
        "Mencari film netflix pada netflix_df yang terdapat pada imdb_df lalu dimasukkan kedalam netflix_in_imdb"
      ]
    },
    {
      "cell_type": "code",
      "metadata": {
        "id": "qX_kqPiAFjlY"
      },
      "source": [
        "mask = netflix_df['title'].apply(lambda x: ''.join(e for e in x if e.isalnum()).lower()).isin(imdb_df['title'].apply(lambda x: ''.join(e for e in x if e.isalnum()).lower()))\n",
        "netflix_in_imdb = netflix_df.loc[mask]"
      ],
      "execution_count": null,
      "outputs": []
    },
    {
      "cell_type": "markdown",
      "metadata": {
        "id": "q66e55AQfEOB"
      },
      "source": [
        "Melakukan drop terhadap baris yang terduplikat"
      ]
    },
    {
      "cell_type": "code",
      "metadata": {
        "id": "FKUEsjyYVKXE"
      },
      "source": [
        "imdb_df = imdb_df.drop_duplicates(subset='title')"
      ],
      "execution_count": null,
      "outputs": []
    },
    {
      "cell_type": "markdown",
      "metadata": {
        "id": "27BNzfRRI_fF"
      },
      "source": [
        "Menyimpan title kedalam list"
      ]
    },
    {
      "cell_type": "code",
      "metadata": {
        "id": "jZct7MYSWDfO"
      },
      "source": [
        "origin_netflix_title = netflix_in_imdb['title'].to_list()\n",
        "origin_imdb_title = imdb_df['title'].to_list()"
      ],
      "execution_count": null,
      "outputs": []
    },
    {
      "cell_type": "markdown",
      "metadata": {
        "id": "S8piwwjefbdH"
      },
      "source": [
        "Memodifikasi judul film pada kedua dataframe menjadi lowercase dan tanpa spasi agar menambah akurasi pada saat melakukan join "
      ]
    },
    {
      "cell_type": "code",
      "metadata": {
        "colab": {
          "base_uri": "https://localhost:8080/"
        },
        "id": "UWZy6L6wVqbn",
        "outputId": "c214bcb6-3b2e-4266-f7bb-0ad6c7c43ec6"
      },
      "source": [
        "netflix_in_imdb['title'] = netflix_in_imdb['title'].apply(lambda x: ''.join(e for e in x if e.isalnum()).lower())\n",
        "imdb_df['title'] = imdb_df['title'].apply(lambda x: ''.join(e for e in x if e.isalnum()).lower())"
      ],
      "execution_count": null,
      "outputs": [
        {
          "output_type": "stream",
          "name": "stderr",
          "text": [
            "/usr/local/lib/python3.7/dist-packages/ipykernel_launcher.py:1: SettingWithCopyWarning: \n",
            "A value is trying to be set on a copy of a slice from a DataFrame.\n",
            "Try using .loc[row_indexer,col_indexer] = value instead\n",
            "\n",
            "See the caveats in the documentation: https://pandas.pydata.org/pandas-docs/stable/user_guide/indexing.html#returning-a-view-versus-a-copy\n",
            "  \"\"\"Entry point for launching an IPython kernel.\n",
            "/usr/local/lib/python3.7/dist-packages/ipykernel_launcher.py:2: SettingWithCopyWarning: \n",
            "A value is trying to be set on a copy of a slice from a DataFrame.\n",
            "Try using .loc[row_indexer,col_indexer] = value instead\n",
            "\n",
            "See the caveats in the documentation: https://pandas.pydata.org/pandas-docs/stable/user_guide/indexing.html#returning-a-view-versus-a-copy\n",
            "  \n"
          ]
        }
      ]
    },
    {
      "cell_type": "markdown",
      "metadata": {
        "id": "idSAUAaOfwJL"
      },
      "source": [
        "Melakukan join netflix_in_imdb dengan imdb_df berdasarkan dengan kolom title"
      ]
    },
    {
      "cell_type": "code",
      "metadata": {
        "colab": {
          "base_uri": "https://localhost:8080/"
        },
        "id": "5MQ6kGDvM_Yu",
        "outputId": "701775bd-a384-4ece-fbcb-24a7c769dba2"
      },
      "source": [
        "netflix_in_imdb = netflix_in_imdb.merge(imdb_df, on='title')\n",
        "netflix_in_imdb.shape"
      ],
      "execution_count": null,
      "outputs": [
        {
          "output_type": "execute_result",
          "data": {
            "text/plain": [
              "(132, 13)"
            ]
          },
          "metadata": {},
          "execution_count": 111
        }
      ]
    },
    {
      "cell_type": "markdown",
      "metadata": {
        "id": "0UKDynkMmnBG"
      },
      "source": [
        "Dari 8807 film yang ada di netflix, hanya terdapat 133 film netflix yang ada pada top 250 movies dan top 250 tv series versi IMDB."
      ]
    },
    {
      "cell_type": "markdown",
      "metadata": {
        "id": "1GD_-_I8f7q4"
      },
      "source": [
        "Mengembalikan kolom title menjadi seperti awal"
      ]
    },
    {
      "cell_type": "code",
      "metadata": {
        "colab": {
          "base_uri": "https://localhost:8080/",
          "height": 437
        },
        "id": "sg7eat28Mwpy",
        "outputId": "d2ef1579-19d5-455f-e9af-f40f23302b5f"
      },
      "source": [
        "netflix_in_imdb['title'] = origin_netflix_title\n",
        "imdb_df['title'] = origin_imdb_title\n",
        "netflix_in_imdb.head()"
      ],
      "execution_count": null,
      "outputs": [
        {
          "output_type": "stream",
          "name": "stderr",
          "text": [
            "/usr/local/lib/python3.7/dist-packages/ipykernel_launcher.py:2: SettingWithCopyWarning: \n",
            "A value is trying to be set on a copy of a slice from a DataFrame.\n",
            "Try using .loc[row_indexer,col_indexer] = value instead\n",
            "\n",
            "See the caveats in the documentation: https://pandas.pydata.org/pandas-docs/stable/user_guide/indexing.html#returning-a-view-versus-a-copy\n",
            "  \n"
          ]
        },
        {
          "output_type": "execute_result",
          "data": {
            "text/html": [
              "<div>\n",
              "<style scoped>\n",
              "    .dataframe tbody tr th:only-of-type {\n",
              "        vertical-align: middle;\n",
              "    }\n",
              "\n",
              "    .dataframe tbody tr th {\n",
              "        vertical-align: top;\n",
              "    }\n",
              "\n",
              "    .dataframe thead th {\n",
              "        text-align: right;\n",
              "    }\n",
              "</style>\n",
              "<table border=\"1\" class=\"dataframe\">\n",
              "  <thead>\n",
              "    <tr style=\"text-align: right;\">\n",
              "      <th></th>\n",
              "      <th>type</th>\n",
              "      <th>title</th>\n",
              "      <th>director</th>\n",
              "      <th>cast</th>\n",
              "      <th>country</th>\n",
              "      <th>release_year</th>\n",
              "      <th>rating</th>\n",
              "      <th>duration</th>\n",
              "      <th>genre</th>\n",
              "      <th>description</th>\n",
              "      <th>year</th>\n",
              "      <th>crew</th>\n",
              "      <th>imdbrating</th>\n",
              "    </tr>\n",
              "  </thead>\n",
              "  <tbody>\n",
              "    <tr>\n",
              "      <th>0</th>\n",
              "      <td>TV Show</td>\n",
              "      <td>Kota Factory</td>\n",
              "      <td>Director_Unknown</td>\n",
              "      <td>Mayur More, Jitendra Kumar, Ranjan Raj, Alam K...</td>\n",
              "      <td>India</td>\n",
              "      <td>2021</td>\n",
              "      <td>TV-MA</td>\n",
              "      <td>2 Seasons</td>\n",
              "      <td>International TV Shows, Romantic TV Shows, TV ...</td>\n",
              "      <td>In a city of coaching centers known to train I...</td>\n",
              "      <td>2019</td>\n",
              "      <td>Mayur More, Jitendra Kumar</td>\n",
              "      <td>8.7</td>\n",
              "    </tr>\n",
              "    <tr>\n",
              "      <th>1</th>\n",
              "      <td>Movie</td>\n",
              "      <td>Once Upon a Time in America</td>\n",
              "      <td>Sergio Leone</td>\n",
              "      <td>Robert De Niro, James Woods, Elizabeth McGover...</td>\n",
              "      <td>Italy, United States</td>\n",
              "      <td>1984</td>\n",
              "      <td>R</td>\n",
              "      <td>229 min</td>\n",
              "      <td>Classic Movies, Dramas</td>\n",
              "      <td>Director Sergio Leone's sprawling crime epic f...</td>\n",
              "      <td>1984</td>\n",
              "      <td>Sergio Leone (dir.), Robert De Niro, James Woods</td>\n",
              "      <td>8.3</td>\n",
              "    </tr>\n",
              "    <tr>\n",
              "      <th>2</th>\n",
              "      <td>Movie</td>\n",
              "      <td>Catch Me If You Can</td>\n",
              "      <td>Steven Spielberg</td>\n",
              "      <td>Leonardo DiCaprio, Tom Hanks, Christopher Walk...</td>\n",
              "      <td>United States, Canada</td>\n",
              "      <td>2002</td>\n",
              "      <td>PG-13</td>\n",
              "      <td>142 min</td>\n",
              "      <td>Dramas</td>\n",
              "      <td>An FBI agent makes it his mission to put cunni...</td>\n",
              "      <td>2002</td>\n",
              "      <td>Steven Spielberg (dir.), Leonardo DiCaprio, To...</td>\n",
              "      <td>8.1</td>\n",
              "    </tr>\n",
              "    <tr>\n",
              "      <th>3</th>\n",
              "      <td>TV Show</td>\n",
              "      <td>Friday Night Lights</td>\n",
              "      <td>Director_Unknown</td>\n",
              "      <td>Kyle Chandler, Connie Britton, Aimee Teegarden...</td>\n",
              "      <td>Country_Unknown</td>\n",
              "      <td>2010</td>\n",
              "      <td>TV-14</td>\n",
              "      <td>5 Seasons</td>\n",
              "      <td>TV Dramas, Teen TV Shows</td>\n",
              "      <td>Eric Taylor faces enormous pressure when he si...</td>\n",
              "      <td>2006</td>\n",
              "      <td>Kyle Chandler, Connie Britton</td>\n",
              "      <td>8.6</td>\n",
              "    </tr>\n",
              "    <tr>\n",
              "      <th>4</th>\n",
              "      <td>Movie</td>\n",
              "      <td>Inception</td>\n",
              "      <td>Christopher Nolan</td>\n",
              "      <td>Leonardo DiCaprio, Joseph Gordon-Levitt, Ellio...</td>\n",
              "      <td>United States, United Kingdom</td>\n",
              "      <td>2010</td>\n",
              "      <td>PG-13</td>\n",
              "      <td>148 min</td>\n",
              "      <td>Action &amp; Adventure, Sci-Fi &amp; Fantasy, Thrillers</td>\n",
              "      <td>A troubled thief who extracts secrets from peo...</td>\n",
              "      <td>2010</td>\n",
              "      <td>Christopher Nolan (dir.), Leonardo DiCaprio, J...</td>\n",
              "      <td>8.7</td>\n",
              "    </tr>\n",
              "  </tbody>\n",
              "</table>\n",
              "</div>"
            ],
            "text/plain": [
              "      type  ... imdbrating\n",
              "0  TV Show  ...        8.7\n",
              "1    Movie  ...        8.3\n",
              "2    Movie  ...        8.1\n",
              "3  TV Show  ...        8.6\n",
              "4    Movie  ...        8.7\n",
              "\n",
              "[5 rows x 13 columns]"
            ]
          },
          "metadata": {},
          "execution_count": 112
        }
      ]
    },
    {
      "cell_type": "markdown",
      "metadata": {
        "id": "yU20LCl6yt5u"
      },
      "source": [
        "Menghapus kolom yang tidak diperlukan "
      ]
    },
    {
      "cell_type": "code",
      "metadata": {
        "colab": {
          "base_uri": "https://localhost:8080/",
          "height": 293
        },
        "id": "8qRZ06x8yuJC",
        "outputId": "22dd314b-45e8-40a0-b415-77652e8058ab"
      },
      "source": [
        "netflix_in_imdb.drop(['year','crew'], axis='columns', inplace=True)\n",
        "netflix_in_imdb.head()"
      ],
      "execution_count": null,
      "outputs": [
        {
          "output_type": "execute_result",
          "data": {
            "text/html": [
              "<div>\n",
              "<style scoped>\n",
              "    .dataframe tbody tr th:only-of-type {\n",
              "        vertical-align: middle;\n",
              "    }\n",
              "\n",
              "    .dataframe tbody tr th {\n",
              "        vertical-align: top;\n",
              "    }\n",
              "\n",
              "    .dataframe thead th {\n",
              "        text-align: right;\n",
              "    }\n",
              "</style>\n",
              "<table border=\"1\" class=\"dataframe\">\n",
              "  <thead>\n",
              "    <tr style=\"text-align: right;\">\n",
              "      <th></th>\n",
              "      <th>type</th>\n",
              "      <th>title</th>\n",
              "      <th>director</th>\n",
              "      <th>cast</th>\n",
              "      <th>country</th>\n",
              "      <th>release_year</th>\n",
              "      <th>rating</th>\n",
              "      <th>duration</th>\n",
              "      <th>genre</th>\n",
              "      <th>description</th>\n",
              "      <th>imdbrating</th>\n",
              "    </tr>\n",
              "  </thead>\n",
              "  <tbody>\n",
              "    <tr>\n",
              "      <th>0</th>\n",
              "      <td>TV Show</td>\n",
              "      <td>Kota Factory</td>\n",
              "      <td>Director_Unknown</td>\n",
              "      <td>Mayur More, Jitendra Kumar, Ranjan Raj, Alam K...</td>\n",
              "      <td>India</td>\n",
              "      <td>2021</td>\n",
              "      <td>TV-MA</td>\n",
              "      <td>2 Seasons</td>\n",
              "      <td>International TV Shows, Romantic TV Shows, TV ...</td>\n",
              "      <td>In a city of coaching centers known to train I...</td>\n",
              "      <td>8.7</td>\n",
              "    </tr>\n",
              "    <tr>\n",
              "      <th>1</th>\n",
              "      <td>Movie</td>\n",
              "      <td>Once Upon a Time in America</td>\n",
              "      <td>Sergio Leone</td>\n",
              "      <td>Robert De Niro, James Woods, Elizabeth McGover...</td>\n",
              "      <td>Italy, United States</td>\n",
              "      <td>1984</td>\n",
              "      <td>R</td>\n",
              "      <td>229 min</td>\n",
              "      <td>Classic Movies, Dramas</td>\n",
              "      <td>Director Sergio Leone's sprawling crime epic f...</td>\n",
              "      <td>8.3</td>\n",
              "    </tr>\n",
              "    <tr>\n",
              "      <th>2</th>\n",
              "      <td>Movie</td>\n",
              "      <td>Catch Me If You Can</td>\n",
              "      <td>Steven Spielberg</td>\n",
              "      <td>Leonardo DiCaprio, Tom Hanks, Christopher Walk...</td>\n",
              "      <td>United States, Canada</td>\n",
              "      <td>2002</td>\n",
              "      <td>PG-13</td>\n",
              "      <td>142 min</td>\n",
              "      <td>Dramas</td>\n",
              "      <td>An FBI agent makes it his mission to put cunni...</td>\n",
              "      <td>8.1</td>\n",
              "    </tr>\n",
              "    <tr>\n",
              "      <th>3</th>\n",
              "      <td>TV Show</td>\n",
              "      <td>Friday Night Lights</td>\n",
              "      <td>Director_Unknown</td>\n",
              "      <td>Kyle Chandler, Connie Britton, Aimee Teegarden...</td>\n",
              "      <td>Country_Unknown</td>\n",
              "      <td>2010</td>\n",
              "      <td>TV-14</td>\n",
              "      <td>5 Seasons</td>\n",
              "      <td>TV Dramas, Teen TV Shows</td>\n",
              "      <td>Eric Taylor faces enormous pressure when he si...</td>\n",
              "      <td>8.6</td>\n",
              "    </tr>\n",
              "    <tr>\n",
              "      <th>4</th>\n",
              "      <td>Movie</td>\n",
              "      <td>Inception</td>\n",
              "      <td>Christopher Nolan</td>\n",
              "      <td>Leonardo DiCaprio, Joseph Gordon-Levitt, Ellio...</td>\n",
              "      <td>United States, United Kingdom</td>\n",
              "      <td>2010</td>\n",
              "      <td>PG-13</td>\n",
              "      <td>148 min</td>\n",
              "      <td>Action &amp; Adventure, Sci-Fi &amp; Fantasy, Thrillers</td>\n",
              "      <td>A troubled thief who extracts secrets from peo...</td>\n",
              "      <td>8.7</td>\n",
              "    </tr>\n",
              "  </tbody>\n",
              "</table>\n",
              "</div>"
            ],
            "text/plain": [
              "      type  ... imdbrating\n",
              "0  TV Show  ...        8.7\n",
              "1    Movie  ...        8.3\n",
              "2    Movie  ...        8.1\n",
              "3  TV Show  ...        8.6\n",
              "4    Movie  ...        8.7\n",
              "\n",
              "[5 rows x 11 columns]"
            ]
          },
          "metadata": {},
          "execution_count": 113
        }
      ]
    },
    {
      "cell_type": "markdown",
      "metadata": {
        "id": "bzeLDjfygbEn"
      },
      "source": [
        "Mengecek kembali apakah ada nilai null atau tidak pada dataframe netflix_in_imdb"
      ]
    },
    {
      "cell_type": "code",
      "metadata": {
        "colab": {
          "base_uri": "https://localhost:8080/"
        },
        "id": "DBt9oEqKMhKW",
        "outputId": "08018799-3255-431d-e498-f284bbb29c32"
      },
      "source": [
        "netflix_in_imdb.isnull().sum()"
      ],
      "execution_count": null,
      "outputs": [
        {
          "output_type": "execute_result",
          "data": {
            "text/plain": [
              "type            0\n",
              "title           0\n",
              "director        0\n",
              "cast            0\n",
              "country         0\n",
              "release_year    0\n",
              "rating          0\n",
              "duration        0\n",
              "genre           0\n",
              "description     0\n",
              "imdbrating      0\n",
              "dtype: int64"
            ]
          },
          "metadata": {},
          "execution_count": 114
        }
      ]
    },
    {
      "cell_type": "markdown",
      "metadata": {
        "id": "Mh7-CDaKnWpJ"
      },
      "source": [
        "Proses load dataframe kedalam file .csv"
      ]
    },
    {
      "cell_type": "code",
      "metadata": {
        "id": "30WhPbeqnX7O"
      },
      "source": [
        "netflix_in_imdb.to_csv('/content/drive/Shareddrives/RekDat/Output/netflix_in_imdb.csv')\n",
        "#Mendownload file .csv ke local file\n",
        "#files.download(\"/content/drive/Shareddrives/RekDat/Output/netflix_in_imdb.csv\") "
      ],
      "execution_count": null,
      "outputs": []
    },
    {
      "cell_type": "markdown",
      "metadata": {
        "id": "SWvNyolr4s2S"
      },
      "source": [
        "Mengurutkan Film dengan rating terbesar (leaderboard)"
      ]
    },
    {
      "cell_type": "code",
      "metadata": {
        "id": "GJo2PXuj4s_p"
      },
      "source": [
        "netflix_in_imdb = netflix_in_imdb.sort_values(by=\"imdbrating\",ascending=False).reset_index(drop=True)\n",
        "netflix_in_imdb.index +=1"
      ],
      "execution_count": null,
      "outputs": []
    },
    {
      "cell_type": "markdown",
      "metadata": {
        "id": "MK2vk7t8hN8A"
      },
      "source": [
        "**Urutan 10 film pertama berdasarkan Rating Terbesar**"
      ]
    },
    {
      "cell_type": "code",
      "metadata": {
        "colab": {
          "base_uri": "https://localhost:8080/",
          "height": 536
        },
        "id": "2dS9E1GahNtE",
        "outputId": "63ce71d2-8e69-45a4-b5ba-29dda7a71802"
      },
      "source": [
        "netflix_in_imdb.head(10)"
      ],
      "execution_count": null,
      "outputs": [
        {
          "output_type": "execute_result",
          "data": {
            "text/html": [
              "<div>\n",
              "<style scoped>\n",
              "    .dataframe tbody tr th:only-of-type {\n",
              "        vertical-align: middle;\n",
              "    }\n",
              "\n",
              "    .dataframe tbody tr th {\n",
              "        vertical-align: top;\n",
              "    }\n",
              "\n",
              "    .dataframe thead th {\n",
              "        text-align: right;\n",
              "    }\n",
              "</style>\n",
              "<table border=\"1\" class=\"dataframe\">\n",
              "  <thead>\n",
              "    <tr style=\"text-align: right;\">\n",
              "      <th></th>\n",
              "      <th>type</th>\n",
              "      <th>title</th>\n",
              "      <th>director</th>\n",
              "      <th>cast</th>\n",
              "      <th>country</th>\n",
              "      <th>release_year</th>\n",
              "      <th>rating</th>\n",
              "      <th>duration</th>\n",
              "      <th>genre</th>\n",
              "      <th>description</th>\n",
              "      <th>imdbrating</th>\n",
              "    </tr>\n",
              "  </thead>\n",
              "  <tbody>\n",
              "    <tr>\n",
              "      <th>1</th>\n",
              "      <td>TV Show</td>\n",
              "      <td>Planet Earth II</td>\n",
              "      <td>Director_Unknown</td>\n",
              "      <td>David Attenborough</td>\n",
              "      <td>United Kingdom</td>\n",
              "      <td>2016</td>\n",
              "      <td>TV-G</td>\n",
              "      <td>1 Season</td>\n",
              "      <td>British TV Shows, Docuseries, Science &amp; Nature TV</td>\n",
              "      <td>In this sequel to the Emmy-winning \"Planet Ear...</td>\n",
              "      <td>9.5</td>\n",
              "    </tr>\n",
              "    <tr>\n",
              "      <th>2</th>\n",
              "      <td>TV Show</td>\n",
              "      <td>Breaking Bad</td>\n",
              "      <td>Director_Unknown</td>\n",
              "      <td>Bryan Cranston, Aaron Paul, Anna Gunn, Dean No...</td>\n",
              "      <td>United States</td>\n",
              "      <td>2013</td>\n",
              "      <td>TV-MA</td>\n",
              "      <td>5 Seasons</td>\n",
              "      <td>Crime TV Shows, TV Dramas, TV Thrillers</td>\n",
              "      <td>A high school chemistry teacher dying of cance...</td>\n",
              "      <td>9.4</td>\n",
              "    </tr>\n",
              "    <tr>\n",
              "      <th>3</th>\n",
              "      <td>TV Show</td>\n",
              "      <td>Blue Planet II</td>\n",
              "      <td>Director_Unknown</td>\n",
              "      <td>David Attenborough</td>\n",
              "      <td>United Kingdom</td>\n",
              "      <td>2017</td>\n",
              "      <td>TV-G</td>\n",
              "      <td>1 Season</td>\n",
              "      <td>British TV Shows, Docuseries, Science &amp; Nature TV</td>\n",
              "      <td>This sequel to the award-winning nature series...</td>\n",
              "      <td>9.3</td>\n",
              "    </tr>\n",
              "    <tr>\n",
              "      <th>4</th>\n",
              "      <td>TV Show</td>\n",
              "      <td>Our Planet</td>\n",
              "      <td>Director_Unknown</td>\n",
              "      <td>David Attenborough</td>\n",
              "      <td>United States, United Kingdom</td>\n",
              "      <td>2019</td>\n",
              "      <td>TV-PG</td>\n",
              "      <td>1 Season</td>\n",
              "      <td>Docuseries, Science &amp; Nature TV</td>\n",
              "      <td>Experience our planet's natural beauty and exa...</td>\n",
              "      <td>9.2</td>\n",
              "    </tr>\n",
              "    <tr>\n",
              "      <th>5</th>\n",
              "      <td>TV Show</td>\n",
              "      <td>Avatar: The Last Airbender</td>\n",
              "      <td>Director_Unknown</td>\n",
              "      <td>Zach Tyler, Mae Whitman, Jack De Sena, Dee Bra...</td>\n",
              "      <td>United States</td>\n",
              "      <td>2007</td>\n",
              "      <td>TV-Y7</td>\n",
              "      <td>3 Seasons</td>\n",
              "      <td>Classic &amp; Cult TV, Kids' TV, TV Action &amp; Adven...</td>\n",
              "      <td>Siblings Katara and Sokka wake young Aang from...</td>\n",
              "      <td>9.2</td>\n",
              "    </tr>\n",
              "    <tr>\n",
              "      <th>6</th>\n",
              "      <td>TV Show</td>\n",
              "      <td>The Last Dance</td>\n",
              "      <td>Director_Unknown</td>\n",
              "      <td>Michael Jordan, Scottie Pippen, Dennis Rodman</td>\n",
              "      <td>United States</td>\n",
              "      <td>2020</td>\n",
              "      <td>TV-MA</td>\n",
              "      <td>1 Season</td>\n",
              "      <td>Docuseries</td>\n",
              "      <td>This docuseries gives a definitive account of ...</td>\n",
              "      <td>9.1</td>\n",
              "    </tr>\n",
              "    <tr>\n",
              "      <th>7</th>\n",
              "      <td>TV Show</td>\n",
              "      <td>Life</td>\n",
              "      <td>Director_Unknown</td>\n",
              "      <td>Lee Dong-wook, Cho Seung-woo, Won Jin-ah, Lee ...</td>\n",
              "      <td>South Korea</td>\n",
              "      <td>2018</td>\n",
              "      <td>TV-MA</td>\n",
              "      <td>1 Season</td>\n",
              "      <td>International TV Shows, Korean TV Shows, TV Dr...</td>\n",
              "      <td>At Korea's top university medical center, idea...</td>\n",
              "      <td>9.1</td>\n",
              "    </tr>\n",
              "    <tr>\n",
              "      <th>8</th>\n",
              "      <td>TV Show</td>\n",
              "      <td>Sherlock</td>\n",
              "      <td>Director_Unknown</td>\n",
              "      <td>Benedict Cumberbatch, Martin Freeman, Una Stub...</td>\n",
              "      <td>United Kingdom, United States</td>\n",
              "      <td>2017</td>\n",
              "      <td>TV-14</td>\n",
              "      <td>4 Seasons</td>\n",
              "      <td>British TV Shows, Crime TV Shows, Internationa...</td>\n",
              "      <td>In this updated take on Sir Arthur Conan Doyle...</td>\n",
              "      <td>9.0</td>\n",
              "    </tr>\n",
              "    <tr>\n",
              "      <th>9</th>\n",
              "      <td>TV Show</td>\n",
              "      <td>Fullmetal Alchemist: Brotherhood</td>\n",
              "      <td>Yasuhiro Irie</td>\n",
              "      <td>Romi Park, Rie Kugimiya, Megumi Takamoto, Shin...</td>\n",
              "      <td>Japan</td>\n",
              "      <td>2010</td>\n",
              "      <td>TV-14</td>\n",
              "      <td>5 Seasons</td>\n",
              "      <td>Anime Series, International TV Shows</td>\n",
              "      <td>After both suffer physical damage – brothers E...</td>\n",
              "      <td>9.0</td>\n",
              "    </tr>\n",
              "    <tr>\n",
              "      <th>10</th>\n",
              "      <td>Movie</td>\n",
              "      <td>The Lord of the Rings: The Return of the King</td>\n",
              "      <td>Peter Jackson</td>\n",
              "      <td>Elijah Wood, Ian McKellen, Liv Tyler, Viggo Mo...</td>\n",
              "      <td>New Zealand, United States</td>\n",
              "      <td>2003</td>\n",
              "      <td>PG-13</td>\n",
              "      <td>201 min</td>\n",
              "      <td>Action &amp; Adventure, Sci-Fi &amp; Fantasy</td>\n",
              "      <td>Aragorn is revealed as the heir to the ancient...</td>\n",
              "      <td>8.9</td>\n",
              "    </tr>\n",
              "  </tbody>\n",
              "</table>\n",
              "</div>"
            ],
            "text/plain": [
              "       type  ... imdbrating\n",
              "1   TV Show  ...        9.5\n",
              "2   TV Show  ...        9.4\n",
              "3   TV Show  ...        9.3\n",
              "4   TV Show  ...        9.2\n",
              "5   TV Show  ...        9.2\n",
              "6   TV Show  ...        9.1\n",
              "7   TV Show  ...        9.1\n",
              "8   TV Show  ...        9.0\n",
              "9   TV Show  ...        9.0\n",
              "10    Movie  ...        8.9\n",
              "\n",
              "[10 rows x 11 columns]"
            ]
          },
          "metadata": {},
          "execution_count": 117
        }
      ]
    },
    {
      "cell_type": "code",
      "metadata": {
        "colab": {
          "base_uri": "https://localhost:8080/",
          "height": 785
        },
        "id": "bct0u2lAYEdm",
        "outputId": "6aa0ac38-4eb2-4542-812f-4d44c7dceab6"
      },
      "source": [
        "plt.figure(figsize=(12,10))\n",
        "sns.barplot(x=netflix_in_imdb['title'].head(10), y=netflix_in_imdb['imdbrating'].head(10).astype(float))\n",
        "plt.xticks(rotation=45)\n",
        "plt.show()"
      ],
      "execution_count": null,
      "outputs": [
        {
          "output_type": "display_data",
          "data": {
            "image/png": "[encoded data removed]",
            "text/plain": [
              "<Figure size 864x720 with 1 Axes>"
            ]
          },
          "metadata": {}
        }
      ]
    },
    {
      "cell_type": "code",
      "metadata": {
        "colab": {
          "base_uri": "https://localhost:8080/",
          "height": 375
        },
        "id": "1NJYbR2Iga2E",
        "outputId": "f3665765-c21d-4812-887d-a755cc264fa9"
      },
      "source": [
        "pie, ax = plt.subplots(figsize=[10,6])\n",
        "netflix_in_imdb['type'].head(10).value_counts().plot(kind='pie')"
      ],
      "execution_count": null,
      "outputs": [
        {
          "output_type": "execute_result",
          "data": {
            "text/plain": [
              "<matplotlib.axes._subplots.AxesSubplot at 0x7fd42d233ad0>"
            ]
          },
          "metadata": {},
          "execution_count": 128
        },
        {
          "output_type": "display_data",
          "data": {
            "image/png": "[encoded data removed]",
            "text/plain": [
              "<Figure size 720x432 with 1 Axes>"
            ]
          },
          "metadata": {}
        }
      ]
    },
    {
      "cell_type": "markdown",
      "metadata": {
        "id": "jIUB-vuJiHO-"
      },
      "source": [
        "**Urutan 10 film pertama berdasarkan Rating Terkecil**"
      ]
    },
    {
      "cell_type": "code",
      "metadata": {
        "colab": {
          "base_uri": "https://localhost:8080/",
          "height": 536
        },
        "id": "0MyFlFa8iHY4",
        "outputId": "a0dbaf8b-f1e0-4aa5-a629-791e692c9ee4"
      },
      "source": [
        "netflix_in_imdb.sort_values(by=\"imdbrating\",ascending=True).head(10)"
      ],
      "execution_count": null,
      "outputs": [
        {
          "output_type": "execute_result",
          "data": {
            "text/html": [
              "<div>\n",
              "<style scoped>\n",
              "    .dataframe tbody tr th:only-of-type {\n",
              "        vertical-align: middle;\n",
              "    }\n",
              "\n",
              "    .dataframe tbody tr th {\n",
              "        vertical-align: top;\n",
              "    }\n",
              "\n",
              "    .dataframe thead th {\n",
              "        text-align: right;\n",
              "    }\n",
              "</style>\n",
              "<table border=\"1\" class=\"dataframe\">\n",
              "  <thead>\n",
              "    <tr style=\"text-align: right;\">\n",
              "      <th></th>\n",
              "      <th>type</th>\n",
              "      <th>title</th>\n",
              "      <th>director</th>\n",
              "      <th>cast</th>\n",
              "      <th>country</th>\n",
              "      <th>release_year</th>\n",
              "      <th>rating</th>\n",
              "      <th>duration</th>\n",
              "      <th>genre</th>\n",
              "      <th>description</th>\n",
              "      <th>imdbrating</th>\n",
              "    </tr>\n",
              "  </thead>\n",
              "  <tbody>\n",
              "    <tr>\n",
              "      <th>132</th>\n",
              "      <td>Movie</td>\n",
              "      <td>Rocky</td>\n",
              "      <td>John G. Avildsen</td>\n",
              "      <td>Sylvester Stallone, Talia Shire, Burt Young, C...</td>\n",
              "      <td>United States</td>\n",
              "      <td>1976</td>\n",
              "      <td>PG</td>\n",
              "      <td>120 min</td>\n",
              "      <td>Action &amp; Adventure, Classic Movies, Dramas</td>\n",
              "      <td>Sylvester Stallone shot to fame as Rocky Balbo...</td>\n",
              "      <td>8.0</td>\n",
              "    </tr>\n",
              "    <tr>\n",
              "      <th>125</th>\n",
              "      <td>Movie</td>\n",
              "      <td>Cool Hand Luke</td>\n",
              "      <td>Stuart Rosenberg</td>\n",
              "      <td>Paul Newman, George Kennedy, J.D. Cannon, Lou ...</td>\n",
              "      <td>United States</td>\n",
              "      <td>1967</td>\n",
              "      <td>TV-14</td>\n",
              "      <td>127 min</td>\n",
              "      <td>Classic Movies, Dramas</td>\n",
              "      <td>Luke Jackson likes to do things his own way, w...</td>\n",
              "      <td>8.0</td>\n",
              "    </tr>\n",
              "    <tr>\n",
              "      <th>126</th>\n",
              "      <td>Movie</td>\n",
              "      <td>Spotlight</td>\n",
              "      <td>Tom McCarthy</td>\n",
              "      <td>Mark Ruffalo, Michael Keaton, Rachel McAdams, ...</td>\n",
              "      <td>United States</td>\n",
              "      <td>2015</td>\n",
              "      <td>R</td>\n",
              "      <td>129 min</td>\n",
              "      <td>Dramas, Independent Movies</td>\n",
              "      <td>A team of reporters and editors at the Boston ...</td>\n",
              "      <td>8.0</td>\n",
              "    </tr>\n",
              "    <tr>\n",
              "      <th>127</th>\n",
              "      <td>Movie</td>\n",
              "      <td>Into the Wild</td>\n",
              "      <td>Sean Penn</td>\n",
              "      <td>Emile Hirsch, Marcia Gay Harden, William Hurt,...</td>\n",
              "      <td>United States</td>\n",
              "      <td>2007</td>\n",
              "      <td>R</td>\n",
              "      <td>148 min</td>\n",
              "      <td>Action &amp; Adventure, Dramas, Independent Movies</td>\n",
              "      <td>A young man gives up everything – including hi...</td>\n",
              "      <td>8.0</td>\n",
              "    </tr>\n",
              "    <tr>\n",
              "      <th>131</th>\n",
              "      <td>Movie</td>\n",
              "      <td>Rebecca</td>\n",
              "      <td>Ben Wheatley</td>\n",
              "      <td>Lily James, Armie Hammer, Kristin Scott Thomas...</td>\n",
              "      <td>United Kingdom</td>\n",
              "      <td>2020</td>\n",
              "      <td>PG-13</td>\n",
              "      <td>123 min</td>\n",
              "      <td>Dramas, Romantic Movies, Thrillers</td>\n",
              "      <td>A young newlywed moves to her husband's imposi...</td>\n",
              "      <td>8.0</td>\n",
              "    </tr>\n",
              "    <tr>\n",
              "      <th>129</th>\n",
              "      <td>Movie</td>\n",
              "      <td>Platoon</td>\n",
              "      <td>Oliver Stone</td>\n",
              "      <td>Tom Berenger, Willem Dafoe, Charlie Sheen, For...</td>\n",
              "      <td>United States, United Kingdom</td>\n",
              "      <td>1986</td>\n",
              "      <td>R</td>\n",
              "      <td>120 min</td>\n",
              "      <td>Action &amp; Adventure, Classic Movies, Dramas</td>\n",
              "      <td>A soldier grows disillusioned as he's caught b...</td>\n",
              "      <td>8.0</td>\n",
              "    </tr>\n",
              "    <tr>\n",
              "      <th>130</th>\n",
              "      <td>Movie</td>\n",
              "      <td>Rush</td>\n",
              "      <td>Ron Howard</td>\n",
              "      <td>Chris Hemsworth, Daniel Brühl, Olivia Wilde, A...</td>\n",
              "      <td>United Kingdom, Germany, United States</td>\n",
              "      <td>2013</td>\n",
              "      <td>R</td>\n",
              "      <td>123 min</td>\n",
              "      <td>Action &amp; Adventure, Dramas, International Movies</td>\n",
              "      <td>In the 1970s, a rivalry propels race car drive...</td>\n",
              "      <td>8.0</td>\n",
              "    </tr>\n",
              "    <tr>\n",
              "      <th>128</th>\n",
              "      <td>Movie</td>\n",
              "      <td>Hachi: A Dog's Tale</td>\n",
              "      <td>Lasse Hallström</td>\n",
              "      <td>Richard Gere, Joan Allen, Cary-Hiroyuki Tagawa...</td>\n",
              "      <td>United Kingdom, United States</td>\n",
              "      <td>2009</td>\n",
              "      <td>G</td>\n",
              "      <td>93 min</td>\n",
              "      <td>Children &amp; Family Movies, Dramas</td>\n",
              "      <td>When his master dies, a loyal pooch named Hach...</td>\n",
              "      <td>8.0</td>\n",
              "    </tr>\n",
              "    <tr>\n",
              "      <th>111</th>\n",
              "      <td>Movie</td>\n",
              "      <td>Trainspotting</td>\n",
              "      <td>Danny Boyle</td>\n",
              "      <td>Ewan McGregor, Ewen Bremner, Jonny Lee Miller,...</td>\n",
              "      <td>United Kingdom</td>\n",
              "      <td>1996</td>\n",
              "      <td>R</td>\n",
              "      <td>94 min</td>\n",
              "      <td>Comedies, Cult Movies, Dramas</td>\n",
              "      <td>Renton and his mates cope with the gritty real...</td>\n",
              "      <td>8.1</td>\n",
              "    </tr>\n",
              "    <tr>\n",
              "      <th>112</th>\n",
              "      <td>Movie</td>\n",
              "      <td>Catch Me If You Can</td>\n",
              "      <td>Steven Spielberg</td>\n",
              "      <td>Leonardo DiCaprio, Tom Hanks, Christopher Walk...</td>\n",
              "      <td>United States, Canada</td>\n",
              "      <td>2002</td>\n",
              "      <td>PG-13</td>\n",
              "      <td>142 min</td>\n",
              "      <td>Dramas</td>\n",
              "      <td>An FBI agent makes it his mission to put cunni...</td>\n",
              "      <td>8.1</td>\n",
              "    </tr>\n",
              "  </tbody>\n",
              "</table>\n",
              "</div>"
            ],
            "text/plain": [
              "      type  ... imdbrating\n",
              "132  Movie  ...        8.0\n",
              "125  Movie  ...        8.0\n",
              "126  Movie  ...        8.0\n",
              "127  Movie  ...        8.0\n",
              "131  Movie  ...        8.0\n",
              "129  Movie  ...        8.0\n",
              "130  Movie  ...        8.0\n",
              "128  Movie  ...        8.0\n",
              "111  Movie  ...        8.1\n",
              "112  Movie  ...        8.1\n",
              "\n",
              "[10 rows x 11 columns]"
            ]
          },
          "metadata": {},
          "execution_count": 120
        }
      ]
    },
    {
      "cell_type": "markdown",
      "metadata": {
        "id": "ijvSAB6vkVjP"
      },
      "source": [
        "**Urutan 10 TV Series pertama berdasarkan Rating Terbesar**"
      ]
    },
    {
      "cell_type": "code",
      "metadata": {
        "colab": {
          "base_uri": "https://localhost:8080/",
          "height": 536
        },
        "id": "RJtZGczYksfC",
        "outputId": "a1643317-91b7-4ccf-e603-dc588d3c4e3b"
      },
      "source": [
        "netflix_in_imdb.sort_values(by=[\"type\",\"imdbrating\"],ascending=False).head(10)"
      ],
      "execution_count": null,
      "outputs": [
        {
          "output_type": "execute_result",
          "data": {
            "text/html": [
              "<div>\n",
              "<style scoped>\n",
              "    .dataframe tbody tr th:only-of-type {\n",
              "        vertical-align: middle;\n",
              "    }\n",
              "\n",
              "    .dataframe tbody tr th {\n",
              "        vertical-align: top;\n",
              "    }\n",
              "\n",
              "    .dataframe thead th {\n",
              "        text-align: right;\n",
              "    }\n",
              "</style>\n",
              "<table border=\"1\" class=\"dataframe\">\n",
              "  <thead>\n",
              "    <tr style=\"text-align: right;\">\n",
              "      <th></th>\n",
              "      <th>type</th>\n",
              "      <th>title</th>\n",
              "      <th>director</th>\n",
              "      <th>cast</th>\n",
              "      <th>country</th>\n",
              "      <th>release_year</th>\n",
              "      <th>rating</th>\n",
              "      <th>duration</th>\n",
              "      <th>genre</th>\n",
              "      <th>description</th>\n",
              "      <th>imdbrating</th>\n",
              "    </tr>\n",
              "  </thead>\n",
              "  <tbody>\n",
              "    <tr>\n",
              "      <th>1</th>\n",
              "      <td>TV Show</td>\n",
              "      <td>Planet Earth II</td>\n",
              "      <td>Director_Unknown</td>\n",
              "      <td>David Attenborough</td>\n",
              "      <td>United Kingdom</td>\n",
              "      <td>2016</td>\n",
              "      <td>TV-G</td>\n",
              "      <td>1 Season</td>\n",
              "      <td>British TV Shows, Docuseries, Science &amp; Nature TV</td>\n",
              "      <td>In this sequel to the Emmy-winning \"Planet Ear...</td>\n",
              "      <td>9.5</td>\n",
              "    </tr>\n",
              "    <tr>\n",
              "      <th>2</th>\n",
              "      <td>TV Show</td>\n",
              "      <td>Breaking Bad</td>\n",
              "      <td>Director_Unknown</td>\n",
              "      <td>Bryan Cranston, Aaron Paul, Anna Gunn, Dean No...</td>\n",
              "      <td>United States</td>\n",
              "      <td>2013</td>\n",
              "      <td>TV-MA</td>\n",
              "      <td>5 Seasons</td>\n",
              "      <td>Crime TV Shows, TV Dramas, TV Thrillers</td>\n",
              "      <td>A high school chemistry teacher dying of cance...</td>\n",
              "      <td>9.4</td>\n",
              "    </tr>\n",
              "    <tr>\n",
              "      <th>3</th>\n",
              "      <td>TV Show</td>\n",
              "      <td>Blue Planet II</td>\n",
              "      <td>Director_Unknown</td>\n",
              "      <td>David Attenborough</td>\n",
              "      <td>United Kingdom</td>\n",
              "      <td>2017</td>\n",
              "      <td>TV-G</td>\n",
              "      <td>1 Season</td>\n",
              "      <td>British TV Shows, Docuseries, Science &amp; Nature TV</td>\n",
              "      <td>This sequel to the award-winning nature series...</td>\n",
              "      <td>9.3</td>\n",
              "    </tr>\n",
              "    <tr>\n",
              "      <th>4</th>\n",
              "      <td>TV Show</td>\n",
              "      <td>Our Planet</td>\n",
              "      <td>Director_Unknown</td>\n",
              "      <td>David Attenborough</td>\n",
              "      <td>United States, United Kingdom</td>\n",
              "      <td>2019</td>\n",
              "      <td>TV-PG</td>\n",
              "      <td>1 Season</td>\n",
              "      <td>Docuseries, Science &amp; Nature TV</td>\n",
              "      <td>Experience our planet's natural beauty and exa...</td>\n",
              "      <td>9.2</td>\n",
              "    </tr>\n",
              "    <tr>\n",
              "      <th>5</th>\n",
              "      <td>TV Show</td>\n",
              "      <td>Avatar: The Last Airbender</td>\n",
              "      <td>Director_Unknown</td>\n",
              "      <td>Zach Tyler, Mae Whitman, Jack De Sena, Dee Bra...</td>\n",
              "      <td>United States</td>\n",
              "      <td>2007</td>\n",
              "      <td>TV-Y7</td>\n",
              "      <td>3 Seasons</td>\n",
              "      <td>Classic &amp; Cult TV, Kids' TV, TV Action &amp; Adven...</td>\n",
              "      <td>Siblings Katara and Sokka wake young Aang from...</td>\n",
              "      <td>9.2</td>\n",
              "    </tr>\n",
              "    <tr>\n",
              "      <th>6</th>\n",
              "      <td>TV Show</td>\n",
              "      <td>The Last Dance</td>\n",
              "      <td>Director_Unknown</td>\n",
              "      <td>Michael Jordan, Scottie Pippen, Dennis Rodman</td>\n",
              "      <td>United States</td>\n",
              "      <td>2020</td>\n",
              "      <td>TV-MA</td>\n",
              "      <td>1 Season</td>\n",
              "      <td>Docuseries</td>\n",
              "      <td>This docuseries gives a definitive account of ...</td>\n",
              "      <td>9.1</td>\n",
              "    </tr>\n",
              "    <tr>\n",
              "      <th>7</th>\n",
              "      <td>TV Show</td>\n",
              "      <td>Life</td>\n",
              "      <td>Director_Unknown</td>\n",
              "      <td>Lee Dong-wook, Cho Seung-woo, Won Jin-ah, Lee ...</td>\n",
              "      <td>South Korea</td>\n",
              "      <td>2018</td>\n",
              "      <td>TV-MA</td>\n",
              "      <td>1 Season</td>\n",
              "      <td>International TV Shows, Korean TV Shows, TV Dr...</td>\n",
              "      <td>At Korea's top university medical center, idea...</td>\n",
              "      <td>9.1</td>\n",
              "    </tr>\n",
              "    <tr>\n",
              "      <th>8</th>\n",
              "      <td>TV Show</td>\n",
              "      <td>Sherlock</td>\n",
              "      <td>Director_Unknown</td>\n",
              "      <td>Benedict Cumberbatch, Martin Freeman, Una Stub...</td>\n",
              "      <td>United Kingdom, United States</td>\n",
              "      <td>2017</td>\n",
              "      <td>TV-14</td>\n",
              "      <td>4 Seasons</td>\n",
              "      <td>British TV Shows, Crime TV Shows, Internationa...</td>\n",
              "      <td>In this updated take on Sir Arthur Conan Doyle...</td>\n",
              "      <td>9.0</td>\n",
              "    </tr>\n",
              "    <tr>\n",
              "      <th>9</th>\n",
              "      <td>TV Show</td>\n",
              "      <td>Fullmetal Alchemist: Brotherhood</td>\n",
              "      <td>Yasuhiro Irie</td>\n",
              "      <td>Romi Park, Rie Kugimiya, Megumi Takamoto, Shin...</td>\n",
              "      <td>Japan</td>\n",
              "      <td>2010</td>\n",
              "      <td>TV-14</td>\n",
              "      <td>5 Seasons</td>\n",
              "      <td>Anime Series, International TV Shows</td>\n",
              "      <td>After both suffer physical damage – brothers E...</td>\n",
              "      <td>9.0</td>\n",
              "    </tr>\n",
              "    <tr>\n",
              "      <th>11</th>\n",
              "      <td>TV Show</td>\n",
              "      <td>Persona</td>\n",
              "      <td>Lee Kyoungmi, Yim Pilsung, Jeon Go-woon, Kim J...</td>\n",
              "      <td>Lee Ji-eun (IU), Bae Doona, Park Hae Soo, Kim ...</td>\n",
              "      <td>South Korea</td>\n",
              "      <td>2019</td>\n",
              "      <td>TV-MA</td>\n",
              "      <td>1 Season</td>\n",
              "      <td>International TV Shows, Korean TV Shows, TV Dr...</td>\n",
              "      <td>An exploration of different personas in an ecl...</td>\n",
              "      <td>8.9</td>\n",
              "    </tr>\n",
              "  </tbody>\n",
              "</table>\n",
              "</div>"
            ],
            "text/plain": [
              "       type  ... imdbrating\n",
              "1   TV Show  ...        9.5\n",
              "2   TV Show  ...        9.4\n",
              "3   TV Show  ...        9.3\n",
              "4   TV Show  ...        9.2\n",
              "5   TV Show  ...        9.2\n",
              "6   TV Show  ...        9.1\n",
              "7   TV Show  ...        9.1\n",
              "8   TV Show  ...        9.0\n",
              "9   TV Show  ...        9.0\n",
              "11  TV Show  ...        8.9\n",
              "\n",
              "[10 rows x 11 columns]"
            ]
          },
          "metadata": {},
          "execution_count": 121
        }
      ]
    },
    {
      "cell_type": "code",
      "metadata": {
        "colab": {
          "base_uri": "https://localhost:8080/",
          "height": 375
        },
        "id": "jWDd-jq1h3fq",
        "outputId": "bfb89492-1777-4b26-caee-5fdb80196e01"
      },
      "source": [
        "pie, ax = plt.subplots(figsize=[10,6])\n",
        "netflix_in_imdb.sort_values(by=[\"type\",\"imdbrating\"],ascending=False).head(10).value_counts(['country']).plot(kind='pie')"
      ],
      "execution_count": null,
      "outputs": [
        {
          "output_type": "execute_result",
          "data": {
            "text/plain": [
              "<matplotlib.axes._subplots.AxesSubplot at 0x7fd429260a90>"
            ]
          },
          "metadata": {},
          "execution_count": 127
        },
        {
          "output_type": "display_data",
          "data": {
            "image/png": "[encoded data removed]",
            "text/plain": [
              "<Figure size 720x432 with 1 Axes>"
            ]
          },
          "metadata": {}
        }
      ]
    },
    {
      "cell_type": "markdown",
      "metadata": {
        "id": "I1iUI7s3lTV2"
      },
      "source": [
        "**Urutan 10 Movie pertama berdasarkan Rating Terbesar**"
      ]
    },
    {
      "cell_type": "code",
      "metadata": {
        "colab": {
          "base_uri": "https://localhost:8080/",
          "height": 536
        },
        "id": "3IKG5IjulUlK",
        "outputId": "3bb78bb4-4e40-4830-f202-cdb252534176"
      },
      "source": [
        "netflix_in_imdb.loc[netflix_in_imdb['type'].isin(['Movie'])].sort_values(by='imdbrating',ascending=False).head(10)"
      ],
      "execution_count": null,
      "outputs": [
        {
          "output_type": "execute_result",
          "data": {
            "text/html": [
              "<div>\n",
              "<style scoped>\n",
              "    .dataframe tbody tr th:only-of-type {\n",
              "        vertical-align: middle;\n",
              "    }\n",
              "\n",
              "    .dataframe tbody tr th {\n",
              "        vertical-align: top;\n",
              "    }\n",
              "\n",
              "    .dataframe thead th {\n",
              "        text-align: right;\n",
              "    }\n",
              "</style>\n",
              "<table border=\"1\" class=\"dataframe\">\n",
              "  <thead>\n",
              "    <tr style=\"text-align: right;\">\n",
              "      <th></th>\n",
              "      <th>type</th>\n",
              "      <th>title</th>\n",
              "      <th>director</th>\n",
              "      <th>cast</th>\n",
              "      <th>country</th>\n",
              "      <th>release_year</th>\n",
              "      <th>rating</th>\n",
              "      <th>duration</th>\n",
              "      <th>genre</th>\n",
              "      <th>description</th>\n",
              "      <th>imdbrating</th>\n",
              "    </tr>\n",
              "  </thead>\n",
              "  <tbody>\n",
              "    <tr>\n",
              "      <th>10</th>\n",
              "      <td>Movie</td>\n",
              "      <td>The Lord of the Rings: The Return of the King</td>\n",
              "      <td>Peter Jackson</td>\n",
              "      <td>Elijah Wood, Ian McKellen, Liv Tyler, Viggo Mo...</td>\n",
              "      <td>New Zealand, United States</td>\n",
              "      <td>2003</td>\n",
              "      <td>PG-13</td>\n",
              "      <td>201 min</td>\n",
              "      <td>Action &amp; Adventure, Sci-Fi &amp; Fantasy</td>\n",
              "      <td>Aragorn is revealed as the heir to the ancient...</td>\n",
              "      <td>8.9</td>\n",
              "    </tr>\n",
              "    <tr>\n",
              "      <th>14</th>\n",
              "      <td>Movie</td>\n",
              "      <td>Schindler's List</td>\n",
              "      <td>Steven Spielberg</td>\n",
              "      <td>Liam Neeson, Ben Kingsley, Ralph Fiennes, Caro...</td>\n",
              "      <td>United States</td>\n",
              "      <td>1993</td>\n",
              "      <td>R</td>\n",
              "      <td>195 min</td>\n",
              "      <td>Classic Movies, Dramas</td>\n",
              "      <td>Oskar Schindler becomes an unlikely humanitari...</td>\n",
              "      <td>8.9</td>\n",
              "    </tr>\n",
              "    <tr>\n",
              "      <th>13</th>\n",
              "      <td>Movie</td>\n",
              "      <td>Death Note</td>\n",
              "      <td>Adam Wingard</td>\n",
              "      <td>Willem Dafoe, Nat Wolff, Lakeith Stanfield, Ma...</td>\n",
              "      <td>United States</td>\n",
              "      <td>2017</td>\n",
              "      <td>TV-MA</td>\n",
              "      <td>100 min</td>\n",
              "      <td>Horror Movies, Thrillers</td>\n",
              "      <td>Light Turner finds a supernatural notebook and...</td>\n",
              "      <td>8.9</td>\n",
              "    </tr>\n",
              "    <tr>\n",
              "      <th>18</th>\n",
              "      <td>Movie</td>\n",
              "      <td>Pulp Fiction</td>\n",
              "      <td>Quentin Tarantino</td>\n",
              "      <td>John Travolta, Samuel L. Jackson, Uma Thurman,...</td>\n",
              "      <td>United States</td>\n",
              "      <td>1994</td>\n",
              "      <td>R</td>\n",
              "      <td>154 min</td>\n",
              "      <td>Classic Movies, Cult Movies, Dramas</td>\n",
              "      <td>This stylized crime caper weaves together stor...</td>\n",
              "      <td>8.8</td>\n",
              "    </tr>\n",
              "    <tr>\n",
              "      <th>35</th>\n",
              "      <td>Movie</td>\n",
              "      <td>Inception</td>\n",
              "      <td>Christopher Nolan</td>\n",
              "      <td>Leonardo DiCaprio, Joseph Gordon-Levitt, Ellio...</td>\n",
              "      <td>United States, United Kingdom</td>\n",
              "      <td>2010</td>\n",
              "      <td>PG-13</td>\n",
              "      <td>148 min</td>\n",
              "      <td>Action &amp; Adventure, Sci-Fi &amp; Fantasy, Thrillers</td>\n",
              "      <td>A troubled thief who extracts secrets from peo...</td>\n",
              "      <td>8.7</td>\n",
              "    </tr>\n",
              "    <tr>\n",
              "      <th>36</th>\n",
              "      <td>Movie</td>\n",
              "      <td>The Lord of the Rings: The Two Towers</td>\n",
              "      <td>Peter Jackson</td>\n",
              "      <td>Elijah Wood, Ian McKellen, Liv Tyler, Viggo Mo...</td>\n",
              "      <td>New Zealand, United States</td>\n",
              "      <td>2002</td>\n",
              "      <td>PG-13</td>\n",
              "      <td>179 min</td>\n",
              "      <td>Action &amp; Adventure, Sci-Fi &amp; Fantasy</td>\n",
              "      <td>Frodo and Sam head to Mordor to destroy the On...</td>\n",
              "      <td>8.7</td>\n",
              "    </tr>\n",
              "    <tr>\n",
              "      <th>38</th>\n",
              "      <td>Movie</td>\n",
              "      <td>The Matrix</td>\n",
              "      <td>Lilly Wachowski, Lana Wachowski</td>\n",
              "      <td>Keanu Reeves, Laurence Fishburne, Carrie-Anne ...</td>\n",
              "      <td>United States</td>\n",
              "      <td>1999</td>\n",
              "      <td>R</td>\n",
              "      <td>136 min</td>\n",
              "      <td>Action &amp; Adventure, Sci-Fi &amp; Fantasy</td>\n",
              "      <td>A computer hacker learns that what most people...</td>\n",
              "      <td>8.6</td>\n",
              "    </tr>\n",
              "    <tr>\n",
              "      <th>39</th>\n",
              "      <td>Movie</td>\n",
              "      <td>The Bridge</td>\n",
              "      <td>Kunle Afolayan</td>\n",
              "      <td>Chidinma Ekile, Ademola Adedoyin, Kunle Afolay...</td>\n",
              "      <td>Nigeria</td>\n",
              "      <td>2017</td>\n",
              "      <td>TV-14</td>\n",
              "      <td>119 min</td>\n",
              "      <td>Dramas, International Movies, Romantic Movies</td>\n",
              "      <td>A Yoruba prince and a young lady from a promin...</td>\n",
              "      <td>8.6</td>\n",
              "    </tr>\n",
              "    <tr>\n",
              "      <th>40</th>\n",
              "      <td>Movie</td>\n",
              "      <td>City of God</td>\n",
              "      <td>Fernando Meirelles, Katia Lund</td>\n",
              "      <td>Alexandre Rodrigues, Leandro Firmino, Phellipe...</td>\n",
              "      <td>Brazil, France, Germany</td>\n",
              "      <td>2002</td>\n",
              "      <td>R</td>\n",
              "      <td>130 min</td>\n",
              "      <td>Dramas, Independent Movies, International Movies</td>\n",
              "      <td>Growing up in a Rio de Janeiro slum, Rocket is...</td>\n",
              "      <td>8.6</td>\n",
              "    </tr>\n",
              "    <tr>\n",
              "      <th>43</th>\n",
              "      <td>Movie</td>\n",
              "      <td>Mahabharat</td>\n",
              "      <td>Amaan Khan</td>\n",
              "      <td>Amitabh Bachchan, Ajay Devgn, Vidya Balan, Sha...</td>\n",
              "      <td>India</td>\n",
              "      <td>2013</td>\n",
              "      <td>TV-14</td>\n",
              "      <td>119 min</td>\n",
              "      <td>Action &amp; Adventure, Dramas, International Movies</td>\n",
              "      <td>Two young brothers encounter a singing bird wh...</td>\n",
              "      <td>8.6</td>\n",
              "    </tr>\n",
              "  </tbody>\n",
              "</table>\n",
              "</div>"
            ],
            "text/plain": [
              "     type  ... imdbrating\n",
              "10  Movie  ...        8.9\n",
              "14  Movie  ...        8.9\n",
              "13  Movie  ...        8.9\n",
              "18  Movie  ...        8.8\n",
              "35  Movie  ...        8.7\n",
              "36  Movie  ...        8.7\n",
              "38  Movie  ...        8.6\n",
              "39  Movie  ...        8.6\n",
              "40  Movie  ...        8.6\n",
              "43  Movie  ...        8.6\n",
              "\n",
              "[10 rows x 11 columns]"
            ]
          },
          "metadata": {},
          "execution_count": 122
        }
      ]
    },
    {
      "cell_type": "markdown",
      "metadata": {
        "id": "X9yMEPtT2FrS"
      },
      "source": [
        "**Urutan 10 film terbaru dengan Rating terbesar**"
      ]
    },
    {
      "cell_type": "code",
      "metadata": {
        "colab": {
          "base_uri": "https://localhost:8080/",
          "height": 536
        },
        "id": "ty2UtQCV2FY5",
        "outputId": "ce57323f-e7dd-42f0-f1d7-00999db5465f"
      },
      "source": [
        "netflix_in_imdb.loc[netflix_in_imdb['release_year'].isin([2021,2020])].sort_values(by='imdbrating',ascending=False).head(10)"
      ],
      "execution_count": null,
      "outputs": [
        {
          "output_type": "execute_result",
          "data": {
            "text/html": [
              "<div>\n",
              "<style scoped>\n",
              "    .dataframe tbody tr th:only-of-type {\n",
              "        vertical-align: middle;\n",
              "    }\n",
              "\n",
              "    .dataframe tbody tr th {\n",
              "        vertical-align: top;\n",
              "    }\n",
              "\n",
              "    .dataframe thead th {\n",
              "        text-align: right;\n",
              "    }\n",
              "</style>\n",
              "<table border=\"1\" class=\"dataframe\">\n",
              "  <thead>\n",
              "    <tr style=\"text-align: right;\">\n",
              "      <th></th>\n",
              "      <th>type</th>\n",
              "      <th>title</th>\n",
              "      <th>director</th>\n",
              "      <th>cast</th>\n",
              "      <th>country</th>\n",
              "      <th>release_year</th>\n",
              "      <th>rating</th>\n",
              "      <th>duration</th>\n",
              "      <th>genre</th>\n",
              "      <th>description</th>\n",
              "      <th>imdbrating</th>\n",
              "    </tr>\n",
              "  </thead>\n",
              "  <tbody>\n",
              "    <tr>\n",
              "      <th>6</th>\n",
              "      <td>TV Show</td>\n",
              "      <td>The Last Dance</td>\n",
              "      <td>Director_Unknown</td>\n",
              "      <td>Michael Jordan, Scottie Pippen, Dennis Rodman</td>\n",
              "      <td>United States</td>\n",
              "      <td>2020</td>\n",
              "      <td>TV-MA</td>\n",
              "      <td>1 Season</td>\n",
              "      <td>Docuseries</td>\n",
              "      <td>This docuseries gives a definitive account of ...</td>\n",
              "      <td>9.1</td>\n",
              "    </tr>\n",
              "    <tr>\n",
              "      <th>24</th>\n",
              "      <td>TV Show</td>\n",
              "      <td>Dark</td>\n",
              "      <td>Director_Unknown</td>\n",
              "      <td>Louis Hofmann, Oliver Masucci, Jördis Triebel,...</td>\n",
              "      <td>Germany, United States</td>\n",
              "      <td>2020</td>\n",
              "      <td>TV-MA</td>\n",
              "      <td>3 Seasons</td>\n",
              "      <td>Crime TV Shows, International TV Shows, TV Dramas</td>\n",
              "      <td>A missing child sets four families on a franti...</td>\n",
              "      <td>8.7</td>\n",
              "    </tr>\n",
              "    <tr>\n",
              "      <th>28</th>\n",
              "      <td>TV Show</td>\n",
              "      <td>BoJack Horseman</td>\n",
              "      <td>Director_Unknown</td>\n",
              "      <td>Will Arnett, Aaron Paul, Amy Sedaris, Alison B...</td>\n",
              "      <td>United States</td>\n",
              "      <td>2020</td>\n",
              "      <td>TV-MA</td>\n",
              "      <td>6 Seasons</td>\n",
              "      <td>TV Comedies</td>\n",
              "      <td>Meet the most beloved sitcom horse of the '90s...</td>\n",
              "      <td>8.7</td>\n",
              "    </tr>\n",
              "    <tr>\n",
              "      <th>29</th>\n",
              "      <td>TV Show</td>\n",
              "      <td>Kota Factory</td>\n",
              "      <td>Director_Unknown</td>\n",
              "      <td>Mayur More, Jitendra Kumar, Ranjan Raj, Alam K...</td>\n",
              "      <td>India</td>\n",
              "      <td>2021</td>\n",
              "      <td>TV-MA</td>\n",
              "      <td>2 Seasons</td>\n",
              "      <td>International TV Shows, Romantic TV Shows, TV ...</td>\n",
              "      <td>In a city of coaching centers known to train I...</td>\n",
              "      <td>8.7</td>\n",
              "    </tr>\n",
              "    <tr>\n",
              "      <th>50</th>\n",
              "      <td>Movie</td>\n",
              "      <td>Monster</td>\n",
              "      <td>Anthony Mandler</td>\n",
              "      <td>Kelvin Harrison Jr., Jennifer Hudson, Jeffrey ...</td>\n",
              "      <td>United States</td>\n",
              "      <td>2021</td>\n",
              "      <td>TV-MA</td>\n",
              "      <td>99 min</td>\n",
              "      <td>Dramas</td>\n",
              "      <td>A talented teen implicated in a robbery-turned...</td>\n",
              "      <td>8.6</td>\n",
              "    </tr>\n",
              "    <tr>\n",
              "      <th>51</th>\n",
              "      <td>TV Show</td>\n",
              "      <td>The Crown</td>\n",
              "      <td>Director_Unknown</td>\n",
              "      <td>Claire Foy, John Lithgow, Matt Smith, Vanessa ...</td>\n",
              "      <td>United Kingdom, United States</td>\n",
              "      <td>2020</td>\n",
              "      <td>TV-MA</td>\n",
              "      <td>4 Seasons</td>\n",
              "      <td>British TV Shows, International TV Shows, TV D...</td>\n",
              "      <td>This drama follows the political rivalries and...</td>\n",
              "      <td>8.6</td>\n",
              "    </tr>\n",
              "    <tr>\n",
              "      <th>53</th>\n",
              "      <td>TV Show</td>\n",
              "      <td>Formula 1: Drive to Survive</td>\n",
              "      <td>Director_Unknown</td>\n",
              "      <td>Cast_Unknown</td>\n",
              "      <td>United Kingdom</td>\n",
              "      <td>2021</td>\n",
              "      <td>TV-MA</td>\n",
              "      <td>3 Seasons</td>\n",
              "      <td>Docuseries</td>\n",
              "      <td>Drivers, managers and team owners live life in...</td>\n",
              "      <td>8.6</td>\n",
              "    </tr>\n",
              "    <tr>\n",
              "      <th>66</th>\n",
              "      <td>TV Show</td>\n",
              "      <td>Cobra Kai</td>\n",
              "      <td>Director_Unknown</td>\n",
              "      <td>Ralph Macchio, William Zabka, Xolo Maridueña, ...</td>\n",
              "      <td>United States</td>\n",
              "      <td>2021</td>\n",
              "      <td>TV-14</td>\n",
              "      <td>3 Seasons</td>\n",
              "      <td>TV Action &amp; Adventure, TV Comedies, TV Dramas</td>\n",
              "      <td>Decades after the tournament that changed thei...</td>\n",
              "      <td>8.5</td>\n",
              "    </tr>\n",
              "    <tr>\n",
              "      <th>69</th>\n",
              "      <td>TV Show</td>\n",
              "      <td>The Queen's Gambit</td>\n",
              "      <td>Director_Unknown</td>\n",
              "      <td>Anya Taylor-Joy, Bill Camp, Marielle Heller, T...</td>\n",
              "      <td>United States</td>\n",
              "      <td>2020</td>\n",
              "      <td>TV-MA</td>\n",
              "      <td>1 Season</td>\n",
              "      <td>TV Dramas</td>\n",
              "      <td>In a 1950s orphanage, a young girl reveals an ...</td>\n",
              "      <td>8.5</td>\n",
              "    </tr>\n",
              "    <tr>\n",
              "      <th>76</th>\n",
              "      <td>Movie</td>\n",
              "      <td>Psycho</td>\n",
              "      <td>Mysskin</td>\n",
              "      <td>Udhayanidhi Stalin, Aditi Rao Hydari, Nithya M...</td>\n",
              "      <td>India</td>\n",
              "      <td>2020</td>\n",
              "      <td>TV-MA</td>\n",
              "      <td>143 min</td>\n",
              "      <td>Horror Movies, International Movies, Thrillers</td>\n",
              "      <td>As a visually impaired man attempts to rescue ...</td>\n",
              "      <td>8.5</td>\n",
              "    </tr>\n",
              "  </tbody>\n",
              "</table>\n",
              "</div>"
            ],
            "text/plain": [
              "       type  ... imdbrating\n",
              "6   TV Show  ...        9.1\n",
              "24  TV Show  ...        8.7\n",
              "28  TV Show  ...        8.7\n",
              "29  TV Show  ...        8.7\n",
              "50    Movie  ...        8.6\n",
              "51  TV Show  ...        8.6\n",
              "53  TV Show  ...        8.6\n",
              "66  TV Show  ...        8.5\n",
              "69  TV Show  ...        8.5\n",
              "76    Movie  ...        8.5\n",
              "\n",
              "[10 rows x 11 columns]"
            ]
          },
          "metadata": {},
          "execution_count": 123
        }
      ]
    },
    {
      "cell_type": "markdown",
      "metadata": {
        "id": "BLQd4Yq0odaT"
      },
      "source": [
        "**TV Series dengan skor terkecil**"
      ]
    },
    {
      "cell_type": "code",
      "metadata": {
        "colab": {
          "base_uri": "https://localhost:8080/",
          "height": 81
        },
        "id": "KJ-9a0ubodi5",
        "outputId": "d89e32e4-f0ac-47c8-ed00-7d4d0ad4bba8"
      },
      "source": [
        "netflix_in_imdb.sort_values(by=[\"type\",\"imdbrating\"],ascending=True).head(1)"
      ],
      "execution_count": null,
      "outputs": [
        {
          "output_type": "execute_result",
          "data": {
            "text/html": [
              "<div>\n",
              "<style scoped>\n",
              "    .dataframe tbody tr th:only-of-type {\n",
              "        vertical-align: middle;\n",
              "    }\n",
              "\n",
              "    .dataframe tbody tr th {\n",
              "        vertical-align: top;\n",
              "    }\n",
              "\n",
              "    .dataframe thead th {\n",
              "        text-align: right;\n",
              "    }\n",
              "</style>\n",
              "<table border=\"1\" class=\"dataframe\">\n",
              "  <thead>\n",
              "    <tr style=\"text-align: right;\">\n",
              "      <th></th>\n",
              "      <th>type</th>\n",
              "      <th>title</th>\n",
              "      <th>director</th>\n",
              "      <th>cast</th>\n",
              "      <th>country</th>\n",
              "      <th>release_year</th>\n",
              "      <th>rating</th>\n",
              "      <th>duration</th>\n",
              "      <th>genre</th>\n",
              "      <th>description</th>\n",
              "      <th>imdbrating</th>\n",
              "    </tr>\n",
              "  </thead>\n",
              "  <tbody>\n",
              "    <tr>\n",
              "      <th>125</th>\n",
              "      <td>Movie</td>\n",
              "      <td>Cool Hand Luke</td>\n",
              "      <td>Stuart Rosenberg</td>\n",
              "      <td>Paul Newman, George Kennedy, J.D. Cannon, Lou ...</td>\n",
              "      <td>United States</td>\n",
              "      <td>1967</td>\n",
              "      <td>TV-14</td>\n",
              "      <td>127 min</td>\n",
              "      <td>Classic Movies, Dramas</td>\n",
              "      <td>Luke Jackson likes to do things his own way, w...</td>\n",
              "      <td>8.0</td>\n",
              "    </tr>\n",
              "  </tbody>\n",
              "</table>\n",
              "</div>"
            ],
            "text/plain": [
              "      type  ... imdbrating\n",
              "125  Movie  ...        8.0\n",
              "\n",
              "[1 rows x 11 columns]"
            ]
          },
          "metadata": {},
          "execution_count": 124
        }
      ]
    },
    {
      "cell_type": "markdown",
      "metadata": {
        "id": "FqhNGD8Soef5"
      },
      "source": [
        "**Movie dengan skor terkecil**"
      ]
    },
    {
      "cell_type": "code",
      "metadata": {
        "colab": {
          "base_uri": "https://localhost:8080/",
          "height": 98
        },
        "id": "Uwr7r3wKoe5l",
        "outputId": "86e38593-38d7-4fb4-e4b5-622734ecac4f"
      },
      "source": [
        "netflix_in_imdb.sort_values(by=[\"type\",\"imdbrating\"],ascending=[False,True]).head(1)"
      ],
      "execution_count": null,
      "outputs": [
        {
          "output_type": "execute_result",
          "data": {
            "text/html": [
              "<div>\n",
              "<style scoped>\n",
              "    .dataframe tbody tr th:only-of-type {\n",
              "        vertical-align: middle;\n",
              "    }\n",
              "\n",
              "    .dataframe tbody tr th {\n",
              "        vertical-align: top;\n",
              "    }\n",
              "\n",
              "    .dataframe thead th {\n",
              "        text-align: right;\n",
              "    }\n",
              "</style>\n",
              "<table border=\"1\" class=\"dataframe\">\n",
              "  <thead>\n",
              "    <tr style=\"text-align: right;\">\n",
              "      <th></th>\n",
              "      <th>type</th>\n",
              "      <th>title</th>\n",
              "      <th>director</th>\n",
              "      <th>cast</th>\n",
              "      <th>country</th>\n",
              "      <th>release_year</th>\n",
              "      <th>rating</th>\n",
              "      <th>duration</th>\n",
              "      <th>genre</th>\n",
              "      <th>description</th>\n",
              "      <th>imdbrating</th>\n",
              "    </tr>\n",
              "  </thead>\n",
              "  <tbody>\n",
              "    <tr>\n",
              "      <th>122</th>\n",
              "      <td>TV Show</td>\n",
              "      <td>Warrior</td>\n",
              "      <td>Director_Unknown</td>\n",
              "      <td>Dar Salim, Danica Curcic, Lars Ranthe, Marco I...</td>\n",
              "      <td>Denmark</td>\n",
              "      <td>2018</td>\n",
              "      <td>TV-MA</td>\n",
              "      <td>1 Season</td>\n",
              "      <td>Crime TV Shows, International TV Shows, TV Dramas</td>\n",
              "      <td>A war veteran plagued by guilt over his final ...</td>\n",
              "      <td>8.1</td>\n",
              "    </tr>\n",
              "  </tbody>\n",
              "</table>\n",
              "</div>"
            ],
            "text/plain": [
              "        type  ... imdbrating\n",
              "122  TV Show  ...        8.1\n",
              "\n",
              "[1 rows x 11 columns]"
            ]
          },
          "metadata": {},
          "execution_count": 125
        }
      ]
    },
    {
      "cell_type": "markdown",
      "metadata": {
        "id": "s_ZOKoojmNy1"
      },
      "source": [
        "Dari data top 500 IMDB, terdapat 133 yang merupakan film Netflix, maka dapat ditarik kesimpulan bahwa kualitas film Netflix terbilang bagus.\n",
        "\n",
        "Lalu dari pengolahan data yang ditampilkan tersebut juga dapat ditarik kesimpulan bahwa Netizen atau Warga Internet lebih menyukai TV Series daripada Movie, karena pada top 10 film berdasarkan skor tertingginya semua berisi TV Series, dengan skor terbesarnya yaitu 9.5. Sedangkan top 10 Movie berada pada urutan dari 11-44 pada leaderboard dengan skor terbesar yaitu 8.9.\n",
        "\n",
        "Kemudian Dari data ini juga dapat dilihat bahwa film hollywood atau film barat lebih banyak digemari karena 8 dari 10 top 10 film maupun top 10 terbaru merupakan produksi US atau UK dan 2 lainnya adalah Asia."
      ]
    }
  ]
}